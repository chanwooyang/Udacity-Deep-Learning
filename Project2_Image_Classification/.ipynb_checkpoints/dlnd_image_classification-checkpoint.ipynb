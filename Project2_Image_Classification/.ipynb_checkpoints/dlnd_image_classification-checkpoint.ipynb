{
 "cells": [
  {
   "cell_type": "markdown",
   "metadata": {
    "collapsed": true
   },
   "source": [
    "# Image Classification\n",
    "In this project, you'll classify images from the [CIFAR-10 dataset](https://www.cs.toronto.edu/~kriz/cifar.html).  The dataset consists of airplanes, dogs, cats, and other objects. You'll preprocess the images, then train a convolutional neural network on all the samples. The images need to be normalized and the labels need to be one-hot encoded.  You'll get to apply what you learned and build a convolutional, max pooling, dropout, and fully connected layers.  At the end, you'll get to see your neural network's predictions on the sample images.\n",
    "## Get the Data\n",
    "Run the following cell to download the [CIFAR-10 dataset for python](https://www.cs.toronto.edu/~kriz/cifar-10-python.tar.gz)."
   ]
  },
  {
   "cell_type": "code",
   "execution_count": 1,
   "metadata": {
    "collapsed": false
   },
   "outputs": [
    {
     "name": "stdout",
     "output_type": "stream",
     "text": [
      "All files found!\n"
     ]
    }
   ],
   "source": [
    "\"\"\"\n",
    "DON'T MODIFY ANYTHING IN THIS CELL THAT IS BELOW THIS LINE\n",
    "\"\"\"\n",
    "from urllib.request import urlretrieve\n",
    "from os.path import isfile, isdir\n",
    "from tqdm import tqdm\n",
    "import problem_unittests as tests\n",
    "import tarfile\n",
    "\n",
    "cifar10_dataset_folder_path = 'cifar-10-batches-py'\n",
    "\n",
    "class DLProgress(tqdm):\n",
    "    last_block = 0\n",
    "\n",
    "    def hook(self, block_num=1, block_size=1, total_size=None):\n",
    "        self.total = total_size\n",
    "        self.update((block_num - self.last_block) * block_size)\n",
    "        self.last_block = block_num\n",
    "\n",
    "if not isfile('cifar-10-python.tar.gz'):\n",
    "    with DLProgress(unit='B', unit_scale=True, miniters=1, desc='CIFAR-10 Dataset') as pbar:\n",
    "        urlretrieve(\n",
    "            'https://www.cs.toronto.edu/~kriz/cifar-10-python.tar.gz',\n",
    "            'cifar-10-python.tar.gz',\n",
    "            pbar.hook)\n",
    "\n",
    "if not isdir(cifar10_dataset_folder_path):\n",
    "    with tarfile.open('cifar-10-python.tar.gz') as tar:\n",
    "        tar.extractall()\n",
    "        tar.close()\n",
    "\n",
    "\n",
    "tests.test_folder_path(cifar10_dataset_folder_path)"
   ]
  },
  {
   "cell_type": "markdown",
   "metadata": {},
   "source": [
    "## Explore the Data\n",
    "The dataset is broken into batches to prevent your machine from running out of memory.  The CIFAR-10 dataset consists of 5 batches, named `data_batch_1`, `data_batch_2`, etc.. Each batch contains the labels and images that are one of the following:\n",
    "* airplane\n",
    "* automobile\n",
    "* bird\n",
    "* cat\n",
    "* deer\n",
    "* dog\n",
    "* frog\n",
    "* horse\n",
    "* ship\n",
    "* truck\n",
    "\n",
    "Understanding a dataset is part of making predictions on the data.  Play around with the code cell below by changing the `batch_id` and `sample_id`. The `batch_id` is the id for a batch (1-5). The `sample_id` is the id for a image and label pair in the batch.\n",
    "\n",
    "Ask yourself \"What are all possible labels?\", \"What is the range of values for the image data?\", \"Are the labels in order or random?\".  Answers to questions like these will help you preprocess the data and end up with better predictions."
   ]
  },
  {
   "cell_type": "code",
   "execution_count": 2,
   "metadata": {
    "collapsed": false
   },
   "outputs": [
    {
     "name": "stdout",
     "output_type": "stream",
     "text": [
      "\n",
      "Stats of batch 1:\n",
      "Samples: 10000\n",
      "Label Counts: {0: 1005, 1: 974, 2: 1032, 3: 1016, 4: 999, 5: 937, 6: 1030, 7: 1001, 8: 1025, 9: 981}\n",
      "First 20 Labels: [6, 9, 9, 4, 1, 1, 2, 7, 8, 3, 4, 7, 7, 2, 9, 9, 9, 3, 2, 6]\n",
      "\n",
      "Example of Image 5:\n",
      "Image - Min Value: 0 Max Value: 252\n",
      "Image - Shape: (32, 32, 3)\n",
      "Label - Label Id: 1 Name: automobile\n"
     ]
    },
    {
     "data": {
      "image/png": "[encoded data removed]",
      "text/plain": [
       "<matplotlib.figure.Figure at 0x10f52bcf8>"
      ]
     },
     "metadata": {
      "image/png": {
       "height": 250,
       "width": 253
      }
     },
     "output_type": "display_data"
    }
   ],
   "source": [
    "%matplotlib inline\n",
    "%config InlineBackend.figure_format = 'retina'\n",
    "\n",
    "import helper\n",
    "import numpy as np\n",
    "\n",
    "# Explore the dataset\n",
    "batch_id = 1\n",
    "sample_id = 5\n",
    "helper.display_stats(cifar10_dataset_folder_path, batch_id, sample_id)"
   ]
  },
  {
   "cell_type": "markdown",
   "metadata": {},
   "source": [
    "## Implement Preprocess Functions\n",
    "### Normalize\n",
    "In the cell below, implement the `normalize` function to take in image data, `x`, and return it as a normalized Numpy array. The values should be in the range of 0 to 1, inclusive.  The return object should be the same shape as `x`."
   ]
  },
  {
   "cell_type": "code",
   "execution_count": 3,
   "metadata": {
    "collapsed": false
   },
   "outputs": [
    {
     "name": "stdout",
     "output_type": "stream",
     "text": [
      "Tests Passed\n"
     ]
    }
   ],
   "source": [
    "def normalize(x):\n",
    "    \"\"\"\n",
    "    Normalize a list of sample image data in the range of 0 to 1\n",
    "    : x: List of image data.  The image shape is (32, 32, 3)\n",
    "    : return: Numpy array of normalize data\n",
    "    \"\"\"\n",
    "    # TODO: Implement Function\n",
    "    return x/255\n",
    "\n",
    "\n",
    "\"\"\"\n",
    "DON'T MODIFY ANYTHING IN THIS CELL THAT IS BELOW THIS LINE\n",
    "\"\"\"\n",
    "tests.test_normalize(normalize)"
   ]
  },
  {
   "cell_type": "markdown",
   "metadata": {},
   "source": [
    "### One-hot encode\n",
    "Just like the previous code cell, you'll be implementing a function for preprocessing.  This time, you'll implement the `one_hot_encode` function. The input, `x`, are a list of labels.  Implement the function to return the list of labels as One-Hot encoded Numpy array.  The possible values for labels are 0 to 9. The one-hot encoding function should return the same encoding for each value between each call to `one_hot_encode`.  Make sure to save the map of encodings outside the function.\n",
    "\n",
    "Hint: Don't reinvent the wheel."
   ]
  },
  {
   "cell_type": "code",
   "execution_count": 6,
   "metadata": {
    "collapsed": false
   },
   "outputs": [
    {
     "name": "stdout",
     "output_type": "stream",
     "text": [
      "Tests Passed\n"
     ]
    }
   ],
   "source": [
    "def one_hot_encode(x):\n",
    "    \"\"\"\n",
    "    One hot encode a list of sample labels. Return a one-hot encoded vector for each label.\n",
    "    : x: List of sample Labels\n",
    "    : return: Numpy array of one-hot encoded labels\n",
    "    \"\"\"\n",
    "    # TODO: Implement Function\n",
    "    one_hot_encoded_vector = []\n",
    "    for label in x:\n",
    "        label_encode = []\n",
    "        for i in range(10):\n",
    "            if i == label:\n",
    "                label_encode.append(1)\n",
    "            else:\n",
    "                label_encode.append(0)\n",
    "        one_hot_encoded_vector.append(label_encode)\n",
    "#     print(one_hot_encoded_vector)\n",
    "    return np.array(one_hot_encoded_vector)\n",
    "\n",
    "\n",
    "\"\"\"\n",
    "DON'T MODIFY ANYTHING IN THIS CELL THAT IS BELOW THIS LINE\n",
    "\"\"\"\n",
    "tests.test_one_hot_encode(one_hot_encode)"
   ]
  },
  {
   "cell_type": "markdown",
   "metadata": {},
   "source": [
    "### Randomize Data\n",
    "As you saw from exploring the data above, the order of the samples are randomized.  It doesn't hurt to randomize it again, but you don't need to for this dataset."
   ]
  },
  {
   "cell_type": "markdown",
   "metadata": {},
   "source": [
    "## Preprocess all the data and save it\n",
    "Running the code cell below will preprocess all the CIFAR-10 data and save it to file. The code below also uses 10% of the training data for validation."
   ]
  },
  {
   "cell_type": "code",
   "execution_count": 7,
   "metadata": {
    "collapsed": false
   },
   "outputs": [],
   "source": [
    "\"\"\"\n",
    "DON'T MODIFY ANYTHING IN THIS CELL\n",
    "\"\"\"\n",
    "# Preprocess Training, Validation, and Testing Data\n",
    "helper.preprocess_and_save_data(cifar10_dataset_folder_path, normalize, one_hot_encode)"
   ]
  },
  {
   "cell_type": "markdown",
   "metadata": {},
   "source": [
    "# Check Point\n",
    "This is your first checkpoint.  If you ever decide to come back to this notebook or have to restart the notebook, you can start from here.  The preprocessed data has been saved to disk."
   ]
  },
  {
   "cell_type": "code",
   "execution_count": 8,
   "metadata": {
    "collapsed": true
   },
   "outputs": [],
   "source": [
    "\"\"\"\n",
    "DON'T MODIFY ANYTHING IN THIS CELL\n",
    "\"\"\"\n",
    "import pickle\n",
    "import problem_unittests as tests\n",
    "import helper\n",
    "\n",
    "# Load the Preprocessed Validation data\n",
    "valid_features, valid_labels = pickle.load(open('preprocess_validation.p', mode='rb'))"
   ]
  },
  {
   "cell_type": "markdown",
   "metadata": {},
   "source": [
    "## Build the network\n",
    "For the neural network, you'll build each layer into a function.  Most of the code you've seen has been outside of functions. To test your code more thoroughly, we require that you put each layer in a function.  This allows us to give you better feedback and test for simple mistakes using our unittests before you submit your project.\n",
    "\n",
    ">**Note:** If you're finding it hard to dedicate enough time for this course each week, we've provided a small shortcut to this part of the project. In the next couple of problems, you'll have the option to use classes from the [TensorFlow Layers](https://www.tensorflow.org/api_docs/python/tf/layers) or [TensorFlow Layers (contrib)](https://www.tensorflow.org/api_guides/python/contrib.layers) packages to build each layer, except the layers you build in the \"Convolutional and Max Pooling Layer\" section.  TF Layers is similar to Keras's and TFLearn's abstraction to layers, so it's easy to pickup.\n",
    "\n",
    ">However, if you would like to get the most out of this course, try to solve all the problems _without_ using anything from the TF Layers packages. You **can** still use classes from other packages that happen to have the same name as ones you find in TF Layers! For example, instead of using the TF Layers version of the `conv2d` class, [tf.layers.conv2d](https://www.tensorflow.org/api_docs/python/tf/layers/conv2d), you would want to use the TF Neural Network version of `conv2d`, [tf.nn.conv2d](https://www.tensorflow.org/api_docs/python/tf/nn/conv2d). \n",
    "\n",
    "Let's begin!\n",
    "\n",
    "### Input\n",
    "The neural network needs to read the image data, one-hot encoded labels, and dropout keep probability. Implement the following functions\n",
    "* Implement `neural_net_image_input`\n",
    " * Return a [TF Placeholder](https://www.tensorflow.org/api_docs/python/tf/placeholder)\n",
    " * Set the shape using `image_shape` with batch size set to `None`.\n",
    " * Name the TensorFlow placeholder \"x\" using the TensorFlow `name` parameter in the [TF Placeholder](https://www.tensorflow.org/api_docs/python/tf/placeholder).\n",
    "* Implement `neural_net_label_input`\n",
    " * Return a [TF Placeholder](https://www.tensorflow.org/api_docs/python/tf/placeholder)\n",
    " * Set the shape using `n_classes` with batch size set to `None`.\n",
    " * Name the TensorFlow placeholder \"y\" using the TensorFlow `name` parameter in the [TF Placeholder](https://www.tensorflow.org/api_docs/python/tf/placeholder).\n",
    "* Implement `neural_net_keep_prob_input`\n",
    " * Return a [TF Placeholder](https://www.tensorflow.org/api_docs/python/tf/placeholder) for dropout keep probability.\n",
    " * Name the TensorFlow placeholder \"keep_prob\" using the TensorFlow `name` parameter in the [TF Placeholder](https://www.tensorflow.org/api_docs/python/tf/placeholder).\n",
    "\n",
    "These names will be used at the end of the project to load your saved model.\n",
    "\n",
    "Note: `None` for shapes in TensorFlow allow for a dynamic size."
   ]
  },
  {
   "cell_type": "code",
   "execution_count": 31,
   "metadata": {
    "collapsed": false
   },
   "outputs": [
    {
     "name": "stdout",
     "output_type": "stream",
     "text": [
      "Image Input Tests Passed.\n",
      "Label Input Tests Passed.\n",
      "Keep Prob Tests Passed.\n"
     ]
    }
   ],
   "source": [
    "import tensorflow as tf\n",
    "\n",
    "def neural_net_image_input(image_shape):\n",
    "    \"\"\"\n",
    "    Return a Tensor for a batch of image input\n",
    "    : image_shape: Shape of the images\n",
    "    : return: Tensor for image input.\n",
    "    \"\"\"\n",
    "    # TODO: Implement Function\n",
    "    return tf.placeholder(tf.float32,[None]+list(image_shape),'x')\n",
    "    # input image shape: [Batchsize = None, image_height, image_width, color_channel]\n",
    "\n",
    "\n",
    "def neural_net_label_input(n_classes):\n",
    "    \"\"\"\n",
    "    Return a Tensor for a batch of label input\n",
    "    : n_classes: Number of classes\n",
    "    : return: Tensor for label input.\n",
    "    \"\"\"\n",
    "    # TODO: Implement Function\n",
    "    return tf.placeholder(tf.float32,[None,n_classes],'y')\n",
    "\n",
    "\n",
    "def neural_net_keep_prob_input():\n",
    "    \"\"\"\n",
    "    Return a Tensor for keep probability\n",
    "    : return: Tensor for keep probability.\n",
    "    \"\"\"\n",
    "    # TODO: Implement Function\n",
    "    return tf.placeholder(tf.float32,None,'keep_prob')\n",
    "\n",
    "\n",
    "\"\"\"\n",
    "DON'T MODIFY ANYTHING IN THIS CELL THAT IS BELOW THIS LINE\n",
    "\"\"\"\n",
    "tf.reset_default_graph()\n",
    "tests.test_nn_image_inputs(neural_net_image_input)\n",
    "tests.test_nn_label_inputs(neural_net_label_input)\n",
    "tests.test_nn_keep_prob_inputs(neural_net_keep_prob_input)"
   ]
  },
  {
   "cell_type": "markdown",
   "metadata": {},
   "source": [
    "### Convolution and Max Pooling Layer\n",
    "Convolution layers have a lot of success with images. For this code cell, you should implement the function `conv2d_maxpool` to apply convolution then max pooling:\n",
    "* Create the weight and bias using `conv_ksize`, `conv_num_outputs` and the shape of `x_tensor`.\n",
    "* Apply a convolution to `x_tensor` using weight and `conv_strides`.\n",
    " * We recommend you use same padding, but you're welcome to use any padding.\n",
    "* Add bias\n",
    "* Add a nonlinear activation to the convolution.\n",
    "* Apply Max Pooling using `pool_ksize` and `pool_strides`.\n",
    " * We recommend you use same padding, but you're welcome to use any padding.\n",
    "\n",
    "**Note:** You **can't** use [TensorFlow Layers](https://www.tensorflow.org/api_docs/python/tf/layers) or [TensorFlow Layers (contrib)](https://www.tensorflow.org/api_guides/python/contrib.layers) for **this** layer, but you can still use TensorFlow's [Neural Network](https://www.tensorflow.org/api_docs/python/tf/nn) package. You may still use the shortcut option for all the **other** layers."
   ]
  },
  {
   "cell_type": "code",
   "execution_count": 32,
   "metadata": {
    "collapsed": false
   },
   "outputs": [
    {
     "name": "stdout",
     "output_type": "stream",
     "text": [
      "Tests Passed\n"
     ]
    }
   ],
   "source": [
    "def conv2d_maxpool(x_tensor, conv_num_outputs, conv_ksize, conv_strides, pool_ksize, pool_strides):\n",
    "    \"\"\"\n",
    "    Apply convolution then max pooling to x_tensor\n",
    "    :param x_tensor: TensorFlow Tensor\n",
    "    :param conv_num_outputs: Number of outputs for the convolutional layer\n",
    "    :param conv_ksize: kernal size 2-D Tuple for the convolutional layer\n",
    "    :param conv_strides: Stride 2-D Tuple for convolution\n",
    "    :param pool_ksize: kernal size 2-D Tuple for pool\n",
    "    :param pool_strides: Stride 2-D Tuple for pool\n",
    "    : return: A tensor that represents convolution and max pooling of x_tensor\n",
    "    \"\"\"\n",
    "    # TODO: Implement Function\n",
    "    \n",
    "    color_channel = x_tensor.get_shape().as_list()[-1]\n",
    "    convWeight = tf.Variable(tf.truncated_normal(list(conv_ksize)+[color_channel,conv_num_outputs],stddev=0.01)) #[filter_size_height, filter_size_width, color_channel, conv_output]\n",
    "    convBias = tf.Variable(tf.zeros(conv_num_outputs))\n",
    "    \n",
    "    conv_layer = tf.nn.conv2d(x_tensor, convWeight, [1]+list(conv_strides)+[1],'SAME') #strides = [batch=1, input_height, input_width, input_channels=1]\n",
    "    conv_layer = tf.nn.bias_add(conv_layer,convBias)\n",
    "    conv_layer = tf.nn.relu(conv_layer)\n",
    "    \n",
    "    maxPooled_conv_layer = tf.nn.max_pool(conv_layer, [1]+list(pool_ksize)+[1], [1]+list(pool_strides)+[1], 'SAME')\n",
    "    \n",
    "    return maxPooled_conv_layer\n",
    "\n",
    "\n",
    "\"\"\"\n",
    "DON'T MODIFY ANYTHING IN THIS CELL THAT IS BELOW THIS LINE\n",
    "\"\"\"\n",
    "tests.test_con_pool(conv2d_maxpool)"
   ]
  },
  {
   "cell_type": "markdown",
   "metadata": {},
   "source": [
    "### Flatten Layer\n",
    "Implement the `flatten` function to change the dimension of `x_tensor` from a 4-D tensor to a 2-D tensor.  The output should be the shape (*Batch Size*, *Flattened Image Size*). Shortcut option: you can use classes from the [TensorFlow Layers](https://www.tensorflow.org/api_docs/python/tf/layers) or [TensorFlow Layers (contrib)](https://www.tensorflow.org/api_guides/python/contrib.layers) packages for this layer. For more of a challenge, only use other TensorFlow packages."
   ]
  },
  {
   "cell_type": "code",
   "execution_count": 33,
   "metadata": {
    "collapsed": false
   },
   "outputs": [
    {
     "name": "stdout",
     "output_type": "stream",
     "text": [
      "Tests Passed\n"
     ]
    }
   ],
   "source": [
    "def flatten(x_tensor):\n",
    "    \"\"\"\n",
    "    Flatten x_tensor to (Batch Size, Flattened Image Size)\n",
    "    : x_tensor: A tensor of size (Batch Size, ...), where ... are the image dimensions.\n",
    "    : return: A tensor of size (Batch Size, Flattened Image Size).\n",
    "    \"\"\"\n",
    "    # TODO: Implement Function\n",
    "    feature_shape = x_tensor.get_shape().as_list()\n",
    "    falttened_size = np.prod(feature_shape[1:])\n",
    "    return tf.reshape(x_tensor,[-1,falttened_size])\n",
    "#     print(tf.reshape(x_tensor,[-1,falttened_size]))\n",
    "\n",
    "\n",
    "\"\"\"\n",
    "DON'T MODIFY ANYTHING IN THIS CELL THAT IS BELOW THIS LINE\n",
    "\"\"\"\n",
    "tests.test_flatten(flatten)"
   ]
  },
  {
   "cell_type": "markdown",
   "metadata": {},
   "source": [
    "### Fully-Connected Layer\n",
    "Implement the `fully_conn` function to apply a fully connected layer to `x_tensor` with the shape (*Batch Size*, *num_outputs*). Shortcut option: you can use classes from the [TensorFlow Layers](https://www.tensorflow.org/api_docs/python/tf/layers) or [TensorFlow Layers (contrib)](https://www.tensorflow.org/api_guides/python/contrib.layers) packages for this layer. For more of a challenge, only use other TensorFlow packages."
   ]
  },
  {
   "cell_type": "code",
   "execution_count": 34,
   "metadata": {
    "collapsed": false
   },
   "outputs": [
    {
     "name": "stdout",
     "output_type": "stream",
     "text": [
      "Tests Passed\n"
     ]
    }
   ],
   "source": [
    "def fully_conn(x_tensor, num_outputs):\n",
    "    \"\"\"\n",
    "    Apply a fully connected layer to x_tensor using weight and bias\n",
    "    : x_tensor: A 2-D tensor where the first dimension is batch size.\n",
    "    : num_outputs: The number of output that the new tensor should be.\n",
    "    : return: A 2-D tensor where the second dimension is num_outputs.\n",
    "    \"\"\"\n",
    "    # TODO: Implement Function\n",
    "    input_shape = x_tensor.get_shape().as_list()[-1]\n",
    "    weight = tf.Variable(tf.truncated_normal([input_shape,num_outputs],stddev=0.01))\n",
    "    bias = tf.Variable(tf.zeros(num_outputs))\n",
    "    \n",
    "    fully_con_layer = tf.add(tf.matmul(x_tensor,weight),bias)\n",
    "    fully_con_layer = tf.nn.relu(fully_con_layer)\n",
    "    \n",
    "    return fully_con_layer\n",
    "\n",
    "\n",
    "\"\"\"\n",
    "DON'T MODIFY ANYTHING IN THIS CELL THAT IS BELOW THIS LINE\n",
    "\"\"\"\n",
    "tests.test_fully_conn(fully_conn)"
   ]
  },
  {
   "cell_type": "markdown",
   "metadata": {},
   "source": [
    "### Output Layer\n",
    "Implement the `output` function to apply a fully connected layer to `x_tensor` with the shape (*Batch Size*, *num_outputs*). Shortcut option: you can use classes from the [TensorFlow Layers](https://www.tensorflow.org/api_docs/python/tf/layers) or [TensorFlow Layers (contrib)](https://www.tensorflow.org/api_guides/python/contrib.layers) packages for this layer. For more of a challenge, only use other TensorFlow packages.\n",
    "\n",
    "**Note:** Activation, softmax, or cross entropy should **not** be applied to this."
   ]
  },
  {
   "cell_type": "code",
   "execution_count": 35,
   "metadata": {
    "collapsed": false
   },
   "outputs": [
    {
     "name": "stdout",
     "output_type": "stream",
     "text": [
      "Tests Passed\n"
     ]
    }
   ],
   "source": [
    "def output(x_tensor, num_outputs):\n",
    "    \"\"\"\n",
    "    Apply a output layer to x_tensor using weight and bias\n",
    "    : x_tensor: A 2-D tensor where the first dimension is batch size.\n",
    "    : num_outputs: The number of output that the new tensor should be.\n",
    "    : return: A 2-D tensor where the second dimension is num_outputs.\n",
    "    \"\"\"\n",
    "    # TODO: Implement Function\n",
    "    \n",
    "    intput_shape = x_tensor.get_shape().as_list()[-1]\n",
    "    weight = tf.Variable(tf.truncated_normal([intput_shape,num_outputs],stddev=0.01))\n",
    "    bias = tf.Variable(tf.zeros(num_outputs))\n",
    "    \n",
    "    output_layer = tf.add(tf.matmul(x_tensor,weight),bias)\n",
    "    \n",
    "    return output_layer\n",
    "\n",
    "\n",
    "\"\"\"\n",
    "DON'T MODIFY ANYTHING IN THIS CELL THAT IS BELOW THIS LINE\n",
    "\"\"\"\n",
    "tests.test_output(output)"
   ]
  },
  {
   "cell_type": "markdown",
   "metadata": {},
   "source": [
    "### Create Convolutional Model\n",
    "Implement the function `conv_net` to create a convolutional neural network model. The function takes in a batch of images, `x`, and outputs logits.  Use the layers you created above to create this model:\n",
    "\n",
    "* Apply 1, 2, or 3 Convolution and Max Pool layers\n",
    "* Apply a Flatten Layer\n",
    "* Apply 1, 2, or 3 Fully Connected Layers\n",
    "* Apply an Output Layer\n",
    "* Return the output\n",
    "* Apply [TensorFlow's Dropout](https://www.tensorflow.org/api_docs/python/tf/nn/dropout) to one or more layers in the model using `keep_prob`. "
   ]
  },
  {
   "cell_type": "code",
   "execution_count": 61,
   "metadata": {
    "collapsed": false
   },
   "outputs": [
    {
     "name": "stdout",
     "output_type": "stream",
     "text": [
      "Neural Network Built!\n"
     ]
    }
   ],
   "source": [
    "def conv_net(x, keep_prob):\n",
    "    \"\"\"\n",
    "    Create a convolutional neural network model\n",
    "    : x: Placeholder tensor that holds image data.\n",
    "    : keep_prob: Placeholder tensor that hold dropout keep probability.\n",
    "    : return: Tensor that represents logits\n",
    "    \"\"\"\n",
    "    # TODO: Apply 1, 2, or 3 Convolution and Max Pool layers\n",
    "    #    Play around with different number of outputs, kernel size and stride\n",
    "    # Function Definition from Above:\n",
    "    #    conv2d_maxpool(x_tensor, conv_num_outputs, conv_ksize, conv_strides, pool_ksize, pool_strides)\n",
    "    \n",
    "    conv_layer1 = conv2d_maxpool(x, 40, (6,6), (2,2), (2,2), (2,2))\n",
    "    conv_layer2 = conv2d_maxpool(conv_layer1, 80, (4,4), (2,2), (2,2), (2,2))\n",
    "    conv_layer3 = conv2d_maxpool(conv_layer2, 120, (2,2), (1,1), (2,2), (2,2))\n",
    "\n",
    "\n",
    "    # TODO: Apply a Flatten Layer\n",
    "    # Function Definition from Above:\n",
    "    #   flatten(x_tensor)\n",
    "    flattened_layer = flatten(conv_layer3)\n",
    "    \n",
    "\n",
    "    # TODO: Apply 1, 2, or 3 Fully Connected Layers\n",
    "    #    Play around with different number of outputs\n",
    "    # Function Definition from Above:\n",
    "    #   fully_conn(x_tensor, num_outputs)\n",
    "    fully_conn_layer1 = fully_conn(flattened_layer, 1000)\n",
    "    fully_conn_layer1 = tf.nn.dropout(fully_conn_layer1, keep_prob) #Apply dropout\n",
    "    fully_conn_layer2 = fully_conn(fully_conn_layer1, 500)\n",
    "    fully_conn_layer2 = tf.nn.dropout(fully_conn_layer2, keep_prob) #Apply dropout\n",
    "    \n",
    "    # TODO: Apply an Output Layer\n",
    "    #    Set this to the number of classes\n",
    "    # Function Definition from Above:\n",
    "    #   output(x_tensor, num_outputs)\n",
    "    output_layer = output(fully_conn_layer2, 10)\n",
    "    \n",
    "    # TODO: return output\n",
    "    return output_layer\n",
    "\n",
    "\n",
    "\"\"\"\n",
    "DON'T MODIFY ANYTHING IN THIS CELL THAT IS BELOW THIS LINE\n",
    "\"\"\"\n",
    "\n",
    "##############################\n",
    "## Build the Neural Network ##\n",
    "##############################\n",
    "\n",
    "# Remove previous weights, bias, inputs, etc..\n",
    "tf.reset_default_graph()\n",
    "\n",
    "# Inputs\n",
    "x = neural_net_image_input((32, 32, 3))\n",
    "y = neural_net_label_input(10)\n",
    "keep_prob = neural_net_keep_prob_input()\n",
    "\n",
    "# Model\n",
    "logits = conv_net(x, keep_prob)\n",
    "\n",
    "# Name logits Tensor, so that is can be loaded from disk after training\n",
    "logits = tf.identity(logits, name='logits')\n",
    "\n",
    "# Loss and Optimizer\n",
    "cost = tf.reduce_mean(tf.nn.softmax_cross_entropy_with_logits(logits=logits, labels=y))\n",
    "optimizer = tf.train.AdamOptimizer().minimize(cost)\n",
    "\n",
    "# Accuracy\n",
    "correct_pred = tf.equal(tf.argmax(logits, 1), tf.argmax(y, 1))\n",
    "accuracy = tf.reduce_mean(tf.cast(correct_pred, tf.float32), name='accuracy')\n",
    "\n",
    "tests.test_conv_net(conv_net)"
   ]
  },
  {
   "cell_type": "markdown",
   "metadata": {},
   "source": [
    "## Train the Neural Network\n",
    "### Single Optimization\n",
    "Implement the function `train_neural_network` to do a single optimization.  The optimization should use `optimizer` to optimize in `session` with a `feed_dict` of the following:\n",
    "* `x` for image input\n",
    "* `y` for labels\n",
    "* `keep_prob` for keep probability for dropout\n",
    "\n",
    "This function will be called for each batch, so `tf.global_variables_initializer()` has already been called.\n",
    "\n",
    "Note: Nothing needs to be returned. This function is only optimizing the neural network."
   ]
  },
  {
   "cell_type": "code",
   "execution_count": 62,
   "metadata": {
    "collapsed": false
   },
   "outputs": [
    {
     "name": "stdout",
     "output_type": "stream",
     "text": [
      "Tests Passed\n"
     ]
    }
   ],
   "source": [
    "def train_neural_network(session, optimizer, keep_probability, feature_batch, label_batch):\n",
    "    \"\"\"\n",
    "    Optimize the session on a batch of images and labels\n",
    "    : session: Current TensorFlow session\n",
    "    : optimizer: TensorFlow optimizer function\n",
    "    : keep_probability: keep probability\n",
    "    : feature_batch: Batch of Numpy image data\n",
    "    : label_batch: Batch of Numpy label data\n",
    "    \"\"\"\n",
    "    # TODO: Implement Function\n",
    "    session.run(optimizer, feed_dict={x:feature_batch, y:label_batch, keep_prob:keep_probability})\n",
    "\n",
    "\n",
    "\"\"\"\n",
    "DON'T MODIFY ANYTHING IN THIS CELL THAT IS BELOW THIS LINE\n",
    "\"\"\"\n",
    "tests.test_train_nn(train_neural_network)"
   ]
  },
  {
   "cell_type": "markdown",
   "metadata": {},
   "source": [
    "### Show Stats\n",
    "Implement the function `print_stats` to print loss and validation accuracy.  Use the global variables `valid_features` and `valid_labels` to calculate validation accuracy.  Use a keep probability of `1.0` to calculate the loss and validation accuracy."
   ]
  },
  {
   "cell_type": "code",
   "execution_count": 63,
   "metadata": {
    "collapsed": false
   },
   "outputs": [],
   "source": [
    "def print_stats(session, feature_batch, label_batch, cost, accuracy):\n",
    "    \"\"\"\n",
    "    Print information about loss and validation accuracy\n",
    "    : session: Current TensorFlow session\n",
    "    : feature_batch: Batch of Numpy image data\n",
    "    : label_batch: Batch of Numpy label data\n",
    "    : cost: TensorFlow cost function\n",
    "    : accuracy: TensorFlow accuracy function\n",
    "    \"\"\"\n",
    "    # TODO: Implement Function\n",
    "    loss = session.run(cost, feed_dict = {x:feature_batch, y:label_batch, keep_prob:1.0})\n",
    "    valid_accuracy = session.run(accuracy, feed_dict = {x:feature_batch, y:label_batch, keep_prob:1.0})\n",
    "    print('Loss: {}'.format(loss), 'Accuracy: {}'.format(valid_accuracy))"
   ]
  },
  {
   "cell_type": "markdown",
   "metadata": {},
   "source": [
    "### Hyperparameters\n",
    "Tune the following parameters:\n",
    "* Set `epochs` to the number of iterations until the network stops learning or start overfitting\n",
    "* Set `batch_size` to the highest number that your machine has memory for.  Most people set them to common sizes of memory:\n",
    " * 64\n",
    " * 128\n",
    " * 256\n",
    " * ...\n",
    "* Set `keep_probability` to the probability of keeping a node using dropout"
   ]
  },
  {
   "cell_type": "code",
   "execution_count": 64,
   "metadata": {
    "collapsed": true
   },
   "outputs": [],
   "source": [
    "# TODO: Tune Parameters\n",
    "epochs = 50\n",
    "batch_size = 256\n",
    "keep_probability = 0.5"
   ]
  },
  {
   "cell_type": "markdown",
   "metadata": {},
   "source": [
    "### Train on a Single CIFAR-10 Batch\n",
    "Instead of training the neural network on all the CIFAR-10 batches of data, let's use a single batch. This should save time while you iterate on the model to get a better accuracy.  Once the final validation accuracy is 50% or greater, run the model on all the data in the next section."
   ]
  },
  {
   "cell_type": "code",
   "execution_count": 65,
   "metadata": {
    "collapsed": false,
    "scrolled": true
   },
   "outputs": [
    {
     "name": "stdout",
     "output_type": "stream",
     "text": [
      "Checking the Training on a Single Batch...\n",
      "Epoch  1, CIFAR-10 Batch 1:  Loss: 2.2700531482696533 Accuracy: 0.125\n",
      "Epoch  2, CIFAR-10 Batch 1:  Loss: 2.295527696609497 Accuracy: 0.20000000298023224\n",
      "Epoch  3, CIFAR-10 Batch 1:  Loss: 2.2105069160461426 Accuracy: 0.17499999701976776\n",
      "Epoch  4, CIFAR-10 Batch 1:  Loss: 2.1750733852386475 Accuracy: 0.125\n",
      "Epoch  5, CIFAR-10 Batch 1:  Loss: 2.0449764728546143 Accuracy: 0.22499999403953552\n",
      "Epoch  6, CIFAR-10 Batch 1:  Loss: 1.9776699542999268 Accuracy: 0.20000000298023224\n",
      "Epoch  7, CIFAR-10 Batch 1:  Loss: 1.8478877544403076 Accuracy: 0.375\n",
      "Epoch  8, CIFAR-10 Batch 1:  Loss: 1.8117328882217407 Accuracy: 0.42500001192092896\n",
      "Epoch  9, CIFAR-10 Batch 1:  Loss: 1.6749489307403564 Accuracy: 0.4749999940395355\n",
      "Epoch 10, CIFAR-10 Batch 1:  Loss: 1.6148567199707031 Accuracy: 0.42500001192092896\n",
      "Epoch 11, CIFAR-10 Batch 1:  Loss: 1.4816710948944092 Accuracy: 0.550000011920929\n",
      "Epoch 12, CIFAR-10 Batch 1:  Loss: 1.4106649160385132 Accuracy: 0.6000000238418579\n",
      "Epoch 13, CIFAR-10 Batch 1:  Loss: 1.304939866065979 Accuracy: 0.5249999761581421\n",
      "Epoch 14, CIFAR-10 Batch 1:  Loss: 1.1858011484146118 Accuracy: 0.675000011920929\n",
      "Epoch 15, CIFAR-10 Batch 1:  Loss: 1.1348419189453125 Accuracy: 0.625\n",
      "Epoch 16, CIFAR-10 Batch 1:  Loss: 1.0264848470687866 Accuracy: 0.6499999761581421\n",
      "Epoch 17, CIFAR-10 Batch 1:  Loss: 0.9634473919868469 Accuracy: 0.6499999761581421\n",
      "Epoch 18, CIFAR-10 Batch 1:  Loss: 0.9357846975326538 Accuracy: 0.625\n",
      "Epoch 19, CIFAR-10 Batch 1:  Loss: 0.9205914735794067 Accuracy: 0.75\n",
      "Epoch 20, CIFAR-10 Batch 1:  Loss: 0.8887655138969421 Accuracy: 0.75\n",
      "Epoch 21, CIFAR-10 Batch 1:  Loss: 0.7748697996139526 Accuracy: 0.75\n",
      "Epoch 22, CIFAR-10 Batch 1:  Loss: 0.7490185499191284 Accuracy: 0.824999988079071\n",
      "Epoch 23, CIFAR-10 Batch 1:  Loss: 0.7022780179977417 Accuracy: 0.800000011920929\n",
      "Epoch 24, CIFAR-10 Batch 1:  Loss: 0.6172637939453125 Accuracy: 0.8500000238418579\n",
      "Epoch 25, CIFAR-10 Batch 1:  Loss: 0.6331894993782043 Accuracy: 0.800000011920929\n",
      "Epoch 26, CIFAR-10 Batch 1:  Loss: 0.5552403330802917 Accuracy: 0.824999988079071\n",
      "Epoch 27, CIFAR-10 Batch 1:  Loss: 0.5464612245559692 Accuracy: 0.824999988079071\n",
      "Epoch 28, CIFAR-10 Batch 1:  Loss: 0.6168716549873352 Accuracy: 0.824999988079071\n",
      "Epoch 29, CIFAR-10 Batch 1:  Loss: 0.5157591104507446 Accuracy: 0.8999999761581421\n",
      "Epoch 30, CIFAR-10 Batch 1:  Loss: 0.46937552094459534 Accuracy: 0.875\n",
      "Epoch 31, CIFAR-10 Batch 1:  Loss: 0.4833766520023346 Accuracy: 0.8999999761581421\n",
      "Epoch 32, CIFAR-10 Batch 1:  Loss: 0.4762043058872223 Accuracy: 0.8500000238418579\n",
      "Epoch 33, CIFAR-10 Batch 1:  Loss: 0.4454118609428406 Accuracy: 0.875\n",
      "Epoch 34, CIFAR-10 Batch 1:  Loss: 0.4038515090942383 Accuracy: 0.8999999761581421\n",
      "Epoch 35, CIFAR-10 Batch 1:  Loss: 0.3452984094619751 Accuracy: 0.8999999761581421\n",
      "Epoch 36, CIFAR-10 Batch 1:  Loss: 0.36450523138046265 Accuracy: 0.9750000238418579\n",
      "Epoch 37, CIFAR-10 Batch 1:  Loss: 0.37773385643959045 Accuracy: 0.949999988079071\n",
      "Epoch 38, CIFAR-10 Batch 1:  Loss: 0.28675374388694763 Accuracy: 0.949999988079071\n",
      "Epoch 39, CIFAR-10 Batch 1:  Loss: 0.2361537665128708 Accuracy: 0.9750000238418579\n",
      "Epoch 40, CIFAR-10 Batch 1:  Loss: 0.29750585556030273 Accuracy: 0.925000011920929\n",
      "Epoch 41, CIFAR-10 Batch 1:  Loss: 0.23112745583057404 Accuracy: 0.9750000238418579\n",
      "Epoch 42, CIFAR-10 Batch 1:  Loss: 0.23713068664073944 Accuracy: 0.949999988079071\n",
      "Epoch 43, CIFAR-10 Batch 1:  Loss: 0.2297576367855072 Accuracy: 0.9750000238418579\n",
      "Epoch 44, CIFAR-10 Batch 1:  Loss: 0.18599115312099457 Accuracy: 1.0\n",
      "Epoch 45, CIFAR-10 Batch 1:  Loss: 0.2664903700351715 Accuracy: 0.8999999761581421\n",
      "Epoch 46, CIFAR-10 Batch 1:  Loss: 0.193454310297966 Accuracy: 1.0\n",
      "Epoch 47, CIFAR-10 Batch 1:  Loss: 0.2056611329317093 Accuracy: 0.9750000238418579\n",
      "Epoch 48, CIFAR-10 Batch 1:  Loss: 0.17170895636081696 Accuracy: 1.0\n",
      "Epoch 49, CIFAR-10 Batch 1:  Loss: 0.19903701543807983 Accuracy: 0.9750000238418579\n",
      "Epoch 50, CIFAR-10 Batch 1:  Loss: 0.22999641299247742 Accuracy: 0.949999988079071\n"
     ]
    }
   ],
   "source": [
    "\"\"\"\n",
    "DON'T MODIFY ANYTHING IN THIS CELL\n",
    "\"\"\"\n",
    "print('Checking the Training on a Single Batch...')\n",
    "with tf.Session() as sess:\n",
    "    # Initializing the variables\n",
    "    sess.run(tf.global_variables_initializer())\n",
    "    \n",
    "    # Training cycle\n",
    "    for epoch in range(epochs):\n",
    "        batch_i = 1\n",
    "        for batch_features, batch_labels in helper.load_preprocess_training_batch(batch_i, batch_size):\n",
    "            train_neural_network(sess, optimizer, keep_probability, batch_features, batch_labels)\n",
    "        print('Epoch {:>2}, CIFAR-10 Batch {}:  '.format(epoch + 1, batch_i), end='')\n",
    "        print_stats(sess, batch_features, batch_labels, cost, accuracy)"
   ]
  },
  {
   "cell_type": "markdown",
   "metadata": {},
   "source": [
    "### Fully Train the Model\n",
    "Now that you got a good accuracy with a single CIFAR-10 batch, try it with all five batches."
   ]
  },
  {
   "cell_type": "code",
   "execution_count": 66,
   "metadata": {
    "collapsed": false,
    "scrolled": true
   },
   "outputs": [
    {
     "name": "stdout",
     "output_type": "stream",
     "text": [
      "Training...\n",
      "Epoch  1, CIFAR-10 Batch 1:  Loss: 2.2658698558807373 Accuracy: 0.07500000298023224\n",
      "Epoch  1, CIFAR-10 Batch 2:  Loss: 2.145155906677246 Accuracy: 0.22499999403953552\n",
      "Epoch  1, CIFAR-10 Batch 3:  Loss: 1.7839994430541992 Accuracy: 0.2750000059604645\n",
      "Epoch  1, CIFAR-10 Batch 4:  Loss: 1.8957237005233765 Accuracy: 0.30000001192092896\n",
      "Epoch  1, CIFAR-10 Batch 5:  Loss: 2.026428699493408 Accuracy: 0.17499999701976776\n",
      "Epoch  2, CIFAR-10 Batch 1:  Loss: 2.104670286178589 Accuracy: 0.22499999403953552\n",
      "Epoch  2, CIFAR-10 Batch 2:  Loss: 2.0219013690948486 Accuracy: 0.30000001192092896\n",
      "Epoch  2, CIFAR-10 Batch 3:  Loss: 1.6395692825317383 Accuracy: 0.30000001192092896\n",
      "Epoch  2, CIFAR-10 Batch 4:  Loss: 1.720536470413208 Accuracy: 0.30000001192092896\n",
      "Epoch  2, CIFAR-10 Batch 5:  Loss: 1.814451813697815 Accuracy: 0.32499998807907104\n",
      "Epoch  3, CIFAR-10 Batch 1:  Loss: 1.9071550369262695 Accuracy: 0.2750000059604645\n",
      "Epoch  3, CIFAR-10 Batch 2:  Loss: 1.7995084524154663 Accuracy: 0.4000000059604645\n",
      "Epoch  3, CIFAR-10 Batch 3:  Loss: 1.3786828517913818 Accuracy: 0.44999998807907104\n",
      "Epoch  3, CIFAR-10 Batch 4:  Loss: 1.5970807075500488 Accuracy: 0.375\n",
      "Epoch  3, CIFAR-10 Batch 5:  Loss: 1.6243343353271484 Accuracy: 0.4749999940395355\n",
      "Epoch  4, CIFAR-10 Batch 1:  Loss: 1.686763048171997 Accuracy: 0.4000000059604645\n",
      "Epoch  4, CIFAR-10 Batch 2:  Loss: 1.5810823440551758 Accuracy: 0.44999998807907104\n",
      "Epoch  4, CIFAR-10 Batch 3:  Loss: 1.2325700521469116 Accuracy: 0.574999988079071\n",
      "Epoch  4, CIFAR-10 Batch 4:  Loss: 1.4817794561386108 Accuracy: 0.4000000059604645\n",
      "Epoch  4, CIFAR-10 Batch 5:  Loss: 1.4739792346954346 Accuracy: 0.5\n",
      "Epoch  5, CIFAR-10 Batch 1:  Loss: 1.5545270442962646 Accuracy: 0.4749999940395355\n",
      "Epoch  5, CIFAR-10 Batch 2:  Loss: 1.3957945108413696 Accuracy: 0.5249999761581421\n",
      "Epoch  5, CIFAR-10 Batch 3:  Loss: 1.0496453046798706 Accuracy: 0.675000011920929\n",
      "Epoch  5, CIFAR-10 Batch 4:  Loss: 1.3376215696334839 Accuracy: 0.5249999761581421\n",
      "Epoch  5, CIFAR-10 Batch 5:  Loss: 1.29025399684906 Accuracy: 0.5249999761581421\n",
      "Epoch  6, CIFAR-10 Batch 1:  Loss: 1.379721999168396 Accuracy: 0.5249999761581421\n",
      "Epoch  6, CIFAR-10 Batch 2:  Loss: 1.2345812320709229 Accuracy: 0.5\n",
      "Epoch  6, CIFAR-10 Batch 3:  Loss: 0.9640039205551147 Accuracy: 0.675000011920929\n",
      "Epoch  6, CIFAR-10 Batch 4:  Loss: 1.190225601196289 Accuracy: 0.5249999761581421\n",
      "Epoch  6, CIFAR-10 Batch 5:  Loss: 1.2192445993423462 Accuracy: 0.625\n",
      "Epoch  7, CIFAR-10 Batch 1:  Loss: 1.24269700050354 Accuracy: 0.6499999761581421\n",
      "Epoch  7, CIFAR-10 Batch 2:  Loss: 1.0731890201568604 Accuracy: 0.574999988079071\n",
      "Epoch  7, CIFAR-10 Batch 3:  Loss: 0.8699034452438354 Accuracy: 0.7250000238418579\n",
      "Epoch  7, CIFAR-10 Batch 4:  Loss: 1.031764268875122 Accuracy: 0.6000000238418579\n",
      "Epoch  7, CIFAR-10 Batch 5:  Loss: 1.0861854553222656 Accuracy: 0.675000011920929\n",
      "Epoch  8, CIFAR-10 Batch 1:  Loss: 1.1476291418075562 Accuracy: 0.6499999761581421\n",
      "Epoch  8, CIFAR-10 Batch 2:  Loss: 0.9826175570487976 Accuracy: 0.625\n",
      "Epoch  8, CIFAR-10 Batch 3:  Loss: 0.7787392735481262 Accuracy: 0.800000011920929\n",
      "Epoch  8, CIFAR-10 Batch 4:  Loss: 0.9903320074081421 Accuracy: 0.6000000238418579\n",
      "Epoch  8, CIFAR-10 Batch 5:  Loss: 0.9563609957695007 Accuracy: 0.7250000238418579\n",
      "Epoch  9, CIFAR-10 Batch 1:  Loss: 1.0657520294189453 Accuracy: 0.6499999761581421\n",
      "Epoch  9, CIFAR-10 Batch 2:  Loss: 0.8539963960647583 Accuracy: 0.6000000238418579\n",
      "Epoch  9, CIFAR-10 Batch 3:  Loss: 0.7124323844909668 Accuracy: 0.824999988079071\n",
      "Epoch  9, CIFAR-10 Batch 4:  Loss: 0.9019277691841125 Accuracy: 0.625\n",
      "Epoch  9, CIFAR-10 Batch 5:  Loss: 0.843484103679657 Accuracy: 0.75\n",
      "Epoch 10, CIFAR-10 Batch 1:  Loss: 1.0002927780151367 Accuracy: 0.699999988079071\n",
      "Epoch 10, CIFAR-10 Batch 2:  Loss: 0.7758177518844604 Accuracy: 0.675000011920929\n",
      "Epoch 10, CIFAR-10 Batch 3:  Loss: 0.6719340085983276 Accuracy: 0.824999988079071\n",
      "Epoch 10, CIFAR-10 Batch 4:  Loss: 0.8150556683540344 Accuracy: 0.7250000238418579\n",
      "Epoch 10, CIFAR-10 Batch 5:  Loss: 0.7903389930725098 Accuracy: 0.800000011920929\n",
      "Epoch 11, CIFAR-10 Batch 1:  Loss: 0.9542728662490845 Accuracy: 0.7250000238418579\n",
      "Epoch 11, CIFAR-10 Batch 2:  Loss: 0.7012389302253723 Accuracy: 0.699999988079071\n",
      "Epoch 11, CIFAR-10 Batch 3:  Loss: 0.59500652551651 Accuracy: 0.824999988079071\n",
      "Epoch 11, CIFAR-10 Batch 4:  Loss: 0.7689031958580017 Accuracy: 0.699999988079071\n",
      "Epoch 11, CIFAR-10 Batch 5:  Loss: 0.6790549159049988 Accuracy: 0.824999988079071\n",
      "Epoch 12, CIFAR-10 Batch 1:  Loss: 0.870294451713562 Accuracy: 0.675000011920929\n",
      "Epoch 12, CIFAR-10 Batch 2:  Loss: 0.6398992538452148 Accuracy: 0.699999988079071\n",
      "Epoch 12, CIFAR-10 Batch 3:  Loss: 0.550470232963562 Accuracy: 0.8500000238418579\n",
      "Epoch 12, CIFAR-10 Batch 4:  Loss: 0.7058864831924438 Accuracy: 0.75\n",
      "Epoch 12, CIFAR-10 Batch 5:  Loss: 0.6509124040603638 Accuracy: 0.875\n",
      "Epoch 13, CIFAR-10 Batch 1:  Loss: 0.843420684337616 Accuracy: 0.699999988079071\n",
      "Epoch 13, CIFAR-10 Batch 2:  Loss: 0.5987051129341125 Accuracy: 0.7250000238418579\n",
      "Epoch 13, CIFAR-10 Batch 3:  Loss: 0.5051198601722717 Accuracy: 0.875\n",
      "Epoch 13, CIFAR-10 Batch 4:  Loss: 0.6632423400878906 Accuracy: 0.75\n",
      "Epoch 13, CIFAR-10 Batch 5:  Loss: 0.5913244485855103 Accuracy: 0.875\n",
      "Epoch 14, CIFAR-10 Batch 1:  Loss: 0.7636266350746155 Accuracy: 0.7250000238418579\n",
      "Epoch 14, CIFAR-10 Batch 2:  Loss: 0.5336410999298096 Accuracy: 0.7749999761581421\n",
      "Epoch 14, CIFAR-10 Batch 3:  Loss: 0.43574410676956177 Accuracy: 0.8999999761581421\n",
      "Epoch 14, CIFAR-10 Batch 4:  Loss: 0.5678215026855469 Accuracy: 0.800000011920929\n",
      "Epoch 14, CIFAR-10 Batch 5:  Loss: 0.5192444920539856 Accuracy: 0.875\n",
      "Epoch 15, CIFAR-10 Batch 1:  Loss: 0.694357693195343 Accuracy: 0.75\n",
      "Epoch 15, CIFAR-10 Batch 2:  Loss: 0.5027972459793091 Accuracy: 0.800000011920929\n",
      "Epoch 15, CIFAR-10 Batch 3:  Loss: 0.4237760603427887 Accuracy: 0.925000011920929\n",
      "Epoch 15, CIFAR-10 Batch 4:  Loss: 0.6127539873123169 Accuracy: 0.699999988079071\n",
      "Epoch 15, CIFAR-10 Batch 5:  Loss: 0.4805382192134857 Accuracy: 0.875\n",
      "Epoch 16, CIFAR-10 Batch 1:  Loss: 0.6183180809020996 Accuracy: 0.75\n",
      "Epoch 16, CIFAR-10 Batch 2:  Loss: 0.44679898023605347 Accuracy: 0.8500000238418579\n",
      "Epoch 16, CIFAR-10 Batch 3:  Loss: 0.40323156118392944 Accuracy: 0.949999988079071\n",
      "Epoch 16, CIFAR-10 Batch 4:  Loss: 0.5149730443954468 Accuracy: 0.8500000238418579\n",
      "Epoch 16, CIFAR-10 Batch 5:  Loss: 0.43431344628334045 Accuracy: 0.875\n",
      "Epoch 17, CIFAR-10 Batch 1:  Loss: 0.6057149767875671 Accuracy: 0.800000011920929\n",
      "Epoch 17, CIFAR-10 Batch 2:  Loss: 0.40409812331199646 Accuracy: 0.800000011920929\n",
      "Epoch 17, CIFAR-10 Batch 3:  Loss: 0.35818785429000854 Accuracy: 0.925000011920929\n",
      "Epoch 17, CIFAR-10 Batch 4:  Loss: 0.5383427739143372 Accuracy: 0.800000011920929\n",
      "Epoch 17, CIFAR-10 Batch 5:  Loss: 0.44510602951049805 Accuracy: 0.875\n",
      "Epoch 18, CIFAR-10 Batch 1:  Loss: 0.6177266240119934 Accuracy: 0.75\n",
      "Epoch 18, CIFAR-10 Batch 2:  Loss: 0.37369483709335327 Accuracy: 0.875\n",
      "Epoch 18, CIFAR-10 Batch 3:  Loss: 0.29796865582466125 Accuracy: 0.949999988079071\n",
      "Epoch 18, CIFAR-10 Batch 4:  Loss: 0.4735189378261566 Accuracy: 0.800000011920929\n",
      "Epoch 18, CIFAR-10 Batch 5:  Loss: 0.42461904883384705 Accuracy: 0.875\n",
      "Epoch 19, CIFAR-10 Batch 1:  Loss: 0.5712976455688477 Accuracy: 0.824999988079071\n",
      "Epoch 19, CIFAR-10 Batch 2:  Loss: 0.3543725609779358 Accuracy: 0.8500000238418579\n",
      "Epoch 19, CIFAR-10 Batch 3:  Loss: 0.25292181968688965 Accuracy: 0.9750000238418579\n",
      "Epoch 19, CIFAR-10 Batch 4:  Loss: 0.4478517174720764 Accuracy: 0.875\n",
      "Epoch 19, CIFAR-10 Batch 5:  Loss: 0.3433923125267029 Accuracy: 0.8999999761581421\n",
      "Epoch 20, CIFAR-10 Batch 1:  Loss: 0.5649633407592773 Accuracy: 0.824999988079071\n",
      "Epoch 20, CIFAR-10 Batch 2:  Loss: 0.3570903539657593 Accuracy: 0.8500000238418579\n",
      "Epoch 20, CIFAR-10 Batch 3:  Loss: 0.25281089544296265 Accuracy: 0.9750000238418579\n",
      "Epoch 20, CIFAR-10 Batch 4:  Loss: 0.4573388695716858 Accuracy: 0.8500000238418579\n",
      "Epoch 20, CIFAR-10 Batch 5:  Loss: 0.3167450726032257 Accuracy: 0.925000011920929\n",
      "Epoch 21, CIFAR-10 Batch 1:  Loss: 0.4913111627101898 Accuracy: 0.824999988079071\n",
      "Epoch 21, CIFAR-10 Batch 2:  Loss: 0.33480238914489746 Accuracy: 0.875\n",
      "Epoch 21, CIFAR-10 Batch 3:  Loss: 0.25100231170654297 Accuracy: 0.9750000238418579\n",
      "Epoch 21, CIFAR-10 Batch 4:  Loss: 0.3639681041240692 Accuracy: 0.8999999761581421\n",
      "Epoch 21, CIFAR-10 Batch 5:  Loss: 0.2998502254486084 Accuracy: 0.925000011920929\n",
      "Epoch 22, CIFAR-10 Batch 1:  Loss: 0.4729185104370117 Accuracy: 0.875\n",
      "Epoch 22, CIFAR-10 Batch 2:  Loss: 0.3120899796485901 Accuracy: 0.8999999761581421\n",
      "Epoch 22, CIFAR-10 Batch 3:  Loss: 0.2394818365573883 Accuracy: 0.9750000238418579\n",
      "Epoch 22, CIFAR-10 Batch 4:  Loss: 0.3514466881752014 Accuracy: 0.925000011920929\n",
      "Epoch 22, CIFAR-10 Batch 5:  Loss: 0.28414592146873474 Accuracy: 0.949999988079071\n",
      "Epoch 23, CIFAR-10 Batch 1:  Loss: 0.4658031463623047 Accuracy: 0.8500000238418579\n",
      "Epoch 23, CIFAR-10 Batch 2:  Loss: 0.31591808795928955 Accuracy: 0.8999999761581421\n",
      "Epoch 23, CIFAR-10 Batch 3:  Loss: 0.22858183085918427 Accuracy: 0.9750000238418579\n",
      "Epoch 23, CIFAR-10 Batch 4:  Loss: 0.3709813058376312 Accuracy: 0.8999999761581421\n",
      "Epoch 23, CIFAR-10 Batch 5:  Loss: 0.2523805797100067 Accuracy: 0.9750000238418579\n",
      "Epoch 24, CIFAR-10 Batch 1:  Loss: 0.43439045548439026 Accuracy: 0.8500000238418579\n",
      "Epoch 24, CIFAR-10 Batch 2:  Loss: 0.2901999354362488 Accuracy: 0.8999999761581421\n",
      "Epoch 24, CIFAR-10 Batch 3:  Loss: 0.25956714153289795 Accuracy: 0.9750000238418579\n",
      "Epoch 24, CIFAR-10 Batch 4:  Loss: 0.3546077609062195 Accuracy: 0.8500000238418579\n",
      "Epoch 24, CIFAR-10 Batch 5:  Loss: 0.23180034756660461 Accuracy: 0.9750000238418579\n",
      "Epoch 25, CIFAR-10 Batch 1:  Loss: 0.4074576497077942 Accuracy: 0.875\n",
      "Epoch 25, CIFAR-10 Batch 2:  Loss: 0.28409266471862793 Accuracy: 0.8999999761581421\n",
      "Epoch 25, CIFAR-10 Batch 3:  Loss: 0.22316774725914001 Accuracy: 0.9750000238418579\n",
      "Epoch 25, CIFAR-10 Batch 4:  Loss: 0.3102084994316101 Accuracy: 0.925000011920929\n",
      "Epoch 25, CIFAR-10 Batch 5:  Loss: 0.23389415442943573 Accuracy: 0.9750000238418579\n",
      "Epoch 26, CIFAR-10 Batch 1:  Loss: 0.408888578414917 Accuracy: 0.8999999761581421\n",
      "Epoch 26, CIFAR-10 Batch 2:  Loss: 0.26002171635627747 Accuracy: 0.925000011920929\n",
      "Epoch 26, CIFAR-10 Batch 3:  Loss: 0.20189151167869568 Accuracy: 0.9750000238418579\n",
      "Epoch 26, CIFAR-10 Batch 4:  Loss: 0.28928929567337036 Accuracy: 0.925000011920929\n",
      "Epoch 26, CIFAR-10 Batch 5:  Loss: 0.21577322483062744 Accuracy: 0.9750000238418579\n",
      "Epoch 27, CIFAR-10 Batch 1:  Loss: 0.39817166328430176 Accuracy: 0.875\n",
      "Epoch 27, CIFAR-10 Batch 2:  Loss: 0.2875346541404724 Accuracy: 0.8999999761581421\n",
      "Epoch 27, CIFAR-10 Batch 3:  Loss: 0.2039051055908203 Accuracy: 0.9750000238418579\n",
      "Epoch 27, CIFAR-10 Batch 4:  Loss: 0.26200026273727417 Accuracy: 0.949999988079071\n",
      "Epoch 27, CIFAR-10 Batch 5:  Loss: 0.22023658454418182 Accuracy: 0.9750000238418579\n",
      "Epoch 28, CIFAR-10 Batch 1:  Loss: 0.31489095091819763 Accuracy: 0.8999999761581421\n",
      "Epoch 28, CIFAR-10 Batch 2:  Loss: 0.2708476781845093 Accuracy: 0.949999988079071\n",
      "Epoch 28, CIFAR-10 Batch 3:  Loss: 0.17053541541099548 Accuracy: 0.9750000238418579\n",
      "Epoch 28, CIFAR-10 Batch 4:  Loss: 0.22769638895988464 Accuracy: 0.949999988079071\n",
      "Epoch 28, CIFAR-10 Batch 5:  Loss: 0.18471433222293854 Accuracy: 0.9750000238418579\n",
      "Epoch 29, CIFAR-10 Batch 1:  Loss: 0.30358457565307617 Accuracy: 0.8999999761581421\n",
      "Epoch 29, CIFAR-10 Batch 2:  Loss: 0.23840609192848206 Accuracy: 0.949999988079071\n",
      "Epoch 29, CIFAR-10 Batch 3:  Loss: 0.1796087622642517 Accuracy: 0.9750000238418579\n",
      "Epoch 29, CIFAR-10 Batch 4:  Loss: 0.24760909378528595 Accuracy: 0.9750000238418579\n",
      "Epoch 29, CIFAR-10 Batch 5:  Loss: 0.17616060376167297 Accuracy: 0.949999988079071\n",
      "Epoch 30, CIFAR-10 Batch 1:  Loss: 0.31508857011795044 Accuracy: 0.925000011920929\n",
      "Epoch 30, CIFAR-10 Batch 2:  Loss: 0.246592715382576 Accuracy: 0.949999988079071\n",
      "Epoch 30, CIFAR-10 Batch 3:  Loss: 0.15540297329425812 Accuracy: 1.0\n",
      "Epoch 30, CIFAR-10 Batch 4:  Loss: 0.2846493124961853 Accuracy: 0.925000011920929\n",
      "Epoch 30, CIFAR-10 Batch 5:  Loss: 0.18846869468688965 Accuracy: 0.9750000238418579\n",
      "Epoch 31, CIFAR-10 Batch 1:  Loss: 0.3030971884727478 Accuracy: 0.925000011920929\n",
      "Epoch 31, CIFAR-10 Batch 2:  Loss: 0.25950226187705994 Accuracy: 0.949999988079071\n",
      "Epoch 31, CIFAR-10 Batch 3:  Loss: 0.13538876175880432 Accuracy: 1.0\n",
      "Epoch 31, CIFAR-10 Batch 4:  Loss: 0.24313724040985107 Accuracy: 0.9750000238418579\n",
      "Epoch 31, CIFAR-10 Batch 5:  Loss: 0.20475125312805176 Accuracy: 0.9750000238418579\n",
      "Epoch 32, CIFAR-10 Batch 1:  Loss: 0.28249868750572205 Accuracy: 0.925000011920929\n",
      "Epoch 32, CIFAR-10 Batch 2:  Loss: 0.23885519802570343 Accuracy: 0.949999988079071\n",
      "Epoch 32, CIFAR-10 Batch 3:  Loss: 0.13025249540805817 Accuracy: 1.0\n",
      "Epoch 32, CIFAR-10 Batch 4:  Loss: 0.26455098390579224 Accuracy: 0.949999988079071\n",
      "Epoch 32, CIFAR-10 Batch 5:  Loss: 0.19532853364944458 Accuracy: 0.9750000238418579\n",
      "Epoch 33, CIFAR-10 Batch 1:  Loss: 0.30255934596061707 Accuracy: 0.8999999761581421\n",
      "Epoch 33, CIFAR-10 Batch 2:  Loss: 0.2659798264503479 Accuracy: 0.925000011920929\n",
      "Epoch 33, CIFAR-10 Batch 3:  Loss: 0.1261698454618454 Accuracy: 0.9750000238418579\n",
      "Epoch 33, CIFAR-10 Batch 4:  Loss: 0.2349548041820526 Accuracy: 0.949999988079071\n",
      "Epoch 33, CIFAR-10 Batch 5:  Loss: 0.15836159884929657 Accuracy: 0.9750000238418579\n",
      "Epoch 34, CIFAR-10 Batch 1:  Loss: 0.2678200602531433 Accuracy: 0.925000011920929\n",
      "Epoch 34, CIFAR-10 Batch 2:  Loss: 0.23434671759605408 Accuracy: 0.925000011920929\n",
      "Epoch 34, CIFAR-10 Batch 3:  Loss: 0.12580518424510956 Accuracy: 0.9750000238418579\n",
      "Epoch 34, CIFAR-10 Batch 4:  Loss: 0.20559850335121155 Accuracy: 0.949999988079071\n",
      "Epoch 34, CIFAR-10 Batch 5:  Loss: 0.16148588061332703 Accuracy: 1.0\n",
      "Epoch 35, CIFAR-10 Batch 1:  Loss: 0.30973896384239197 Accuracy: 0.8999999761581421\n",
      "Epoch 35, CIFAR-10 Batch 2:  Loss: 0.2510208189487457 Accuracy: 0.8999999761581421\n",
      "Epoch 35, CIFAR-10 Batch 3:  Loss: 0.10198567062616348 Accuracy: 0.9750000238418579\n",
      "Epoch 35, CIFAR-10 Batch 4:  Loss: 0.2059592753648758 Accuracy: 0.9750000238418579\n",
      "Epoch 35, CIFAR-10 Batch 5:  Loss: 0.13846063613891602 Accuracy: 1.0\n",
      "Epoch 36, CIFAR-10 Batch 1:  Loss: 0.2689577341079712 Accuracy: 0.925000011920929\n",
      "Epoch 36, CIFAR-10 Batch 2:  Loss: 0.245984748005867 Accuracy: 0.9750000238418579\n",
      "Epoch 36, CIFAR-10 Batch 3:  Loss: 0.0944548100233078 Accuracy: 1.0\n",
      "Epoch 36, CIFAR-10 Batch 4:  Loss: 0.19182603061199188 Accuracy: 0.9750000238418579\n",
      "Epoch 36, CIFAR-10 Batch 5:  Loss: 0.12458641827106476 Accuracy: 0.9750000238418579\n",
      "Epoch 37, CIFAR-10 Batch 1:  Loss: 0.2576349675655365 Accuracy: 0.8999999761581421\n",
      "Epoch 37, CIFAR-10 Batch 2:  Loss: 0.2431456595659256 Accuracy: 0.925000011920929\n",
      "Epoch 37, CIFAR-10 Batch 3:  Loss: 0.12053868919610977 Accuracy: 0.9750000238418579\n",
      "Epoch 37, CIFAR-10 Batch 4:  Loss: 0.19905351102352142 Accuracy: 0.949999988079071\n",
      "Epoch 37, CIFAR-10 Batch 5:  Loss: 0.14261376857757568 Accuracy: 0.9750000238418579\n",
      "Epoch 38, CIFAR-10 Batch 1:  Loss: 0.23007169365882874 Accuracy: 0.949999988079071\n",
      "Epoch 38, CIFAR-10 Batch 2:  Loss: 0.19239315390586853 Accuracy: 0.9750000238418579\n",
      "Epoch 38, CIFAR-10 Batch 3:  Loss: 0.12696602940559387 Accuracy: 0.9750000238418579\n",
      "Epoch 38, CIFAR-10 Batch 4:  Loss: 0.23921914398670197 Accuracy: 0.949999988079071\n",
      "Epoch 38, CIFAR-10 Batch 5:  Loss: 0.12491953372955322 Accuracy: 0.9750000238418579\n",
      "Epoch 39, CIFAR-10 Batch 1:  Loss: 0.19988574087619781 Accuracy: 0.9750000238418579\n",
      "Epoch 39, CIFAR-10 Batch 2:  Loss: 0.18042413890361786 Accuracy: 0.9750000238418579\n",
      "Epoch 39, CIFAR-10 Batch 3:  Loss: 0.11457987874746323 Accuracy: 0.9750000238418579\n",
      "Epoch 39, CIFAR-10 Batch 4:  Loss: 0.1771707981824875 Accuracy: 0.949999988079071\n",
      "Epoch 39, CIFAR-10 Batch 5:  Loss: 0.11526282131671906 Accuracy: 1.0\n",
      "Epoch 40, CIFAR-10 Batch 1:  Loss: 0.2292838841676712 Accuracy: 0.925000011920929\n",
      "Epoch 40, CIFAR-10 Batch 2:  Loss: 0.18078981339931488 Accuracy: 0.9750000238418579\n",
      "Epoch 40, CIFAR-10 Batch 3:  Loss: 0.09758854657411575 Accuracy: 1.0\n",
      "Epoch 40, CIFAR-10 Batch 4:  Loss: 0.18532010912895203 Accuracy: 0.949999988079071\n",
      "Epoch 40, CIFAR-10 Batch 5:  Loss: 0.10850626230239868 Accuracy: 1.0\n",
      "Epoch 41, CIFAR-10 Batch 1:  Loss: 0.2129974365234375 Accuracy: 0.949999988079071\n",
      "Epoch 41, CIFAR-10 Batch 2:  Loss: 0.18347206711769104 Accuracy: 0.9750000238418579\n",
      "Epoch 41, CIFAR-10 Batch 3:  Loss: 0.08613552153110504 Accuracy: 1.0\n",
      "Epoch 41, CIFAR-10 Batch 4:  Loss: 0.17051789164543152 Accuracy: 0.9750000238418579\n",
      "Epoch 41, CIFAR-10 Batch 5:  Loss: 0.10469929128885269 Accuracy: 0.9750000238418579\n",
      "Epoch 42, CIFAR-10 Batch 1:  Loss: 0.23261554539203644 Accuracy: 0.949999988079071\n",
      "Epoch 42, CIFAR-10 Batch 2:  Loss: 0.1754671037197113 Accuracy: 0.9750000238418579\n",
      "Epoch 42, CIFAR-10 Batch 3:  Loss: 0.08827656507492065 Accuracy: 1.0\n",
      "Epoch 42, CIFAR-10 Batch 4:  Loss: 0.17318233847618103 Accuracy: 0.9750000238418579\n",
      "Epoch 42, CIFAR-10 Batch 5:  Loss: 0.08756089210510254 Accuracy: 0.9750000238418579\n",
      "Epoch 43, CIFAR-10 Batch 1:  Loss: 0.26920655369758606 Accuracy: 0.949999988079071\n",
      "Epoch 43, CIFAR-10 Batch 2:  Loss: 0.14572177827358246 Accuracy: 0.9750000238418579\n",
      "Epoch 43, CIFAR-10 Batch 3:  Loss: 0.08024042844772339 Accuracy: 1.0\n",
      "Epoch 43, CIFAR-10 Batch 4:  Loss: 0.14589878916740417 Accuracy: 1.0\n",
      "Epoch 43, CIFAR-10 Batch 5:  Loss: 0.0944158211350441 Accuracy: 0.9750000238418579\n",
      "Epoch 44, CIFAR-10 Batch 1:  Loss: 0.25197187066078186 Accuracy: 0.8999999761581421\n",
      "Epoch 44, CIFAR-10 Batch 2:  Loss: 0.14551767706871033 Accuracy: 0.949999988079071\n",
      "Epoch 44, CIFAR-10 Batch 3:  Loss: 0.09408340603113174 Accuracy: 1.0\n",
      "Epoch 44, CIFAR-10 Batch 4:  Loss: 0.16638793051242828 Accuracy: 0.9750000238418579\n",
      "Epoch 44, CIFAR-10 Batch 5:  Loss: 0.08915632963180542 Accuracy: 0.9750000238418579\n",
      "Epoch 45, CIFAR-10 Batch 1:  Loss: 0.20963993668556213 Accuracy: 0.9750000238418579\n",
      "Epoch 45, CIFAR-10 Batch 2:  Loss: 0.13356932997703552 Accuracy: 0.9750000238418579\n",
      "Epoch 45, CIFAR-10 Batch 3:  Loss: 0.11787071079015732 Accuracy: 1.0\n",
      "Epoch 45, CIFAR-10 Batch 4:  Loss: 0.1911565065383911 Accuracy: 0.9750000238418579\n",
      "Epoch 45, CIFAR-10 Batch 5:  Loss: 0.0757012888789177 Accuracy: 1.0\n",
      "Epoch 46, CIFAR-10 Batch 1:  Loss: 0.25145331025123596 Accuracy: 0.925000011920929\n",
      "Epoch 46, CIFAR-10 Batch 2:  Loss: 0.13887229561805725 Accuracy: 1.0\n",
      "Epoch 46, CIFAR-10 Batch 3:  Loss: 0.10282324254512787 Accuracy: 1.0\n",
      "Epoch 46, CIFAR-10 Batch 4:  Loss: 0.16551735997200012 Accuracy: 0.949999988079071\n",
      "Epoch 46, CIFAR-10 Batch 5:  Loss: 0.08591940999031067 Accuracy: 1.0\n",
      "Epoch 47, CIFAR-10 Batch 1:  Loss: 0.25048765540122986 Accuracy: 0.949999988079071\n",
      "Epoch 47, CIFAR-10 Batch 2:  Loss: 0.20563597977161407 Accuracy: 1.0\n",
      "Epoch 47, CIFAR-10 Batch 3:  Loss: 0.0899863988161087 Accuracy: 1.0\n",
      "Epoch 47, CIFAR-10 Batch 4:  Loss: 0.12956996262073517 Accuracy: 0.949999988079071\n",
      "Epoch 47, CIFAR-10 Batch 5:  Loss: 0.08315736800432205 Accuracy: 1.0\n",
      "Epoch 48, CIFAR-10 Batch 1:  Loss: 0.18202868103981018 Accuracy: 0.9750000238418579\n",
      "Epoch 48, CIFAR-10 Batch 2:  Loss: 0.15023526549339294 Accuracy: 0.9750000238418579\n",
      "Epoch 48, CIFAR-10 Batch 3:  Loss: 0.06869606673717499 Accuracy: 1.0\n",
      "Epoch 48, CIFAR-10 Batch 4:  Loss: 0.1305423378944397 Accuracy: 0.9750000238418579\n",
      "Epoch 48, CIFAR-10 Batch 5:  Loss: 0.07314874231815338 Accuracy: 1.0\n",
      "Epoch 49, CIFAR-10 Batch 1:  Loss: 0.1812257170677185 Accuracy: 0.9750000238418579\n",
      "Epoch 49, CIFAR-10 Batch 2:  Loss: 0.15936799347400665 Accuracy: 1.0\n",
      "Epoch 49, CIFAR-10 Batch 3:  Loss: 0.06170763820409775 Accuracy: 1.0\n",
      "Epoch 49, CIFAR-10 Batch 4:  Loss: 0.10773372650146484 Accuracy: 0.949999988079071\n",
      "Epoch 49, CIFAR-10 Batch 5:  Loss: 0.06525025516748428 Accuracy: 1.0\n",
      "Epoch 50, CIFAR-10 Batch 1:  Loss: 0.15768209099769592 Accuracy: 1.0\n",
      "Epoch 50, CIFAR-10 Batch 2:  Loss: 0.16223125159740448 Accuracy: 1.0\n",
      "Epoch 50, CIFAR-10 Batch 3:  Loss: 0.05928124114871025 Accuracy: 1.0\n",
      "Epoch 50, CIFAR-10 Batch 4:  Loss: 0.10770244896411896 Accuracy: 0.9750000238418579\n",
      "Epoch 50, CIFAR-10 Batch 5:  Loss: 0.05616016313433647 Accuracy: 1.0\n"
     ]
    }
   ],
   "source": [
    "\"\"\"\n",
    "DON'T MODIFY ANYTHING IN THIS CELL\n",
    "\"\"\"\n",
    "save_model_path = './image_classification'\n",
    "\n",
    "print('Training...')\n",
    "with tf.Session() as sess:\n",
    "    # Initializing the variables\n",
    "    sess.run(tf.global_variables_initializer())\n",
    "    \n",
    "    # Training cycle\n",
    "    for epoch in range(epochs):\n",
    "        # Loop over all batches\n",
    "        n_batches = 5\n",
    "        for batch_i in range(1, n_batches + 1):\n",
    "            for batch_features, batch_labels in helper.load_preprocess_training_batch(batch_i, batch_size):\n",
    "                train_neural_network(sess, optimizer, keep_probability, batch_features, batch_labels)\n",
    "            print('Epoch {:>2}, CIFAR-10 Batch {}:  '.format(epoch + 1, batch_i), end='')\n",
    "            print_stats(sess, batch_features, batch_labels, cost, accuracy)\n",
    "            \n",
    "    # Save Model\n",
    "    saver = tf.train.Saver()\n",
    "    save_path = saver.save(sess, save_model_path)"
   ]
  },
  {
   "cell_type": "markdown",
   "metadata": {},
   "source": [
    "# Checkpoint\n",
    "The model has been saved to disk.\n",
    "## Test Model\n",
    "Test your model against the test dataset.  This will be your final accuracy. You should have an accuracy greater than 50%. If you don't, keep tweaking the model architecture and parameters."
   ]
  },
  {
   "cell_type": "code",
   "execution_count": 67,
   "metadata": {
    "collapsed": false
   },
   "outputs": [
    {
     "name": "stdout",
     "output_type": "stream",
     "text": [
      "Testing Accuracy: 0.612890625\n",
      "\n"
     ]
    },
    {
     "data": {
      "image/png": "[encoded data removed]",
      "text/plain": [
       "<matplotlib.figure.Figure at 0x122c025f8>"
      ]
     },
     "metadata": {
      "image/png": {
       "height": 319,
       "width": 355
      }
     },
     "output_type": "display_data"
    }
   ],
   "source": [
    "\"\"\"\n",
    "DON'T MODIFY ANYTHING IN THIS CELL\n",
    "\"\"\"\n",
    "%matplotlib inline\n",
    "%config InlineBackend.figure_format = 'retina'\n",
    "\n",
    "import tensorflow as tf\n",
    "import pickle\n",
    "import helper\n",
    "import random\n",
    "\n",
    "# Set batch size if not already set\n",
    "try:\n",
    "    if batch_size:\n",
    "        pass\n",
    "except NameError:\n",
    "    batch_size = 64\n",
    "\n",
    "save_model_path = './image_classification'\n",
    "n_samples = 4\n",
    "top_n_predictions = 3\n",
    "\n",
    "def test_model():\n",
    "    \"\"\"\n",
    "    Test the saved model against the test dataset\n",
    "    \"\"\"\n",
    "\n",
    "    test_features, test_labels = pickle.load(open('preprocess_training.p', mode='rb'))\n",
    "    loaded_graph = tf.Graph()\n",
    "\n",
    "    with tf.Session(graph=loaded_graph) as sess:\n",
    "        # Load model\n",
    "        loader = tf.train.import_meta_graph(save_model_path + '.meta')\n",
    "        loader.restore(sess, save_model_path)\n",
    "\n",
    "        # Get Tensors from loaded model\n",
    "        loaded_x = loaded_graph.get_tensor_by_name('x:0')\n",
    "        loaded_y = loaded_graph.get_tensor_by_name('y:0')\n",
    "        loaded_keep_prob = loaded_graph.get_tensor_by_name('keep_prob:0')\n",
    "        loaded_logits = loaded_graph.get_tensor_by_name('logits:0')\n",
    "        loaded_acc = loaded_graph.get_tensor_by_name('accuracy:0')\n",
    "        \n",
    "        # Get accuracy in batches for memory limitations\n",
    "        test_batch_acc_total = 0\n",
    "        test_batch_count = 0\n",
    "        \n",
    "        for train_feature_batch, train_label_batch in helper.batch_features_labels(test_features, test_labels, batch_size):\n",
    "            test_batch_acc_total += sess.run(\n",
    "                loaded_acc,\n",
    "                feed_dict={loaded_x: train_feature_batch, loaded_y: train_label_batch, loaded_keep_prob: 1.0})\n",
    "            test_batch_count += 1\n",
    "\n",
    "        print('Testing Accuracy: {}\\n'.format(test_batch_acc_total/test_batch_count))\n",
    "\n",
    "        # Print Random Samples\n",
    "        random_test_features, random_test_labels = tuple(zip(*random.sample(list(zip(test_features, test_labels)), n_samples)))\n",
    "        random_test_predictions = sess.run(\n",
    "            tf.nn.top_k(tf.nn.softmax(loaded_logits), top_n_predictions),\n",
    "            feed_dict={loaded_x: random_test_features, loaded_y: random_test_labels, loaded_keep_prob: 1.0})\n",
    "        helper.display_image_predictions(random_test_features, random_test_labels, random_test_predictions)\n",
    "\n",
    "\n",
    "test_model()"
   ]
  },
  {
   "cell_type": "markdown",
   "metadata": {},
   "source": [
    "## Why 50-80% Accuracy?\n",
    "You might be wondering why you can't get an accuracy any higher. First things first, 50% isn't bad for a simple CNN.  Pure guessing would get you 10% accuracy. However, you might notice people are getting scores [well above 80%](http://rodrigob.github.io/are_we_there_yet/build/classification_datasets_results.html#43494641522d3130).  That's because we haven't taught you all there is to know about neural networks. We still need to cover a few more techniques.\n",
    "## Submitting This Project\n",
    "When submitting this project, make sure to run all the cells before saving the notebook.  Save the notebook file as \"dlnd_image_classification.ipynb\" and save it as a HTML file under \"File\" -> \"Download as\".  Include the \"helper.py\" and \"problem_unittests.py\" files in your submission."
   ]
  }
 ],
 "metadata": {
  "kernelspec": {
   "display_name": "Python 3",
   "language": "python",
   "name": "python3"
  },
  "language_info": {
   "codemirror_mode": {
    "name": "ipython",
    "version": 3
   },
   "file_extension": ".py",
   "mimetype": "text/x-python",
   "name": "python",
   "nbconvert_exporter": "python",
   "pygments_lexer": "ipython3",
   "version": "3.5.3"
  }
 },
 "nbformat": 4,
 "nbformat_minor": 0
}
