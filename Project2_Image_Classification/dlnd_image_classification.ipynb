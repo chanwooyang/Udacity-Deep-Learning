{
 "cells": [
  {
   "cell_type": "markdown",
   "metadata": {
    "collapsed": true
   },
   "source": [
    "# Image Classification\n",
    "In this project, you'll classify images from the [CIFAR-10 dataset](https://www.cs.toronto.edu/~kriz/cifar.html).  The dataset consists of airplanes, dogs, cats, and other objects. You'll preprocess the images, then train a convolutional neural network on all the samples. The images need to be normalized and the labels need to be one-hot encoded.  You'll get to apply what you learned and build a convolutional, max pooling, dropout, and fully connected layers.  At the end, you'll get to see your neural network's predictions on the sample images.\n",
    "## Get the Data\n",
    "Run the following cell to download the [CIFAR-10 dataset for python](https://www.cs.toronto.edu/~kriz/cifar-10-python.tar.gz)."
   ]
  },
  {
   "cell_type": "code",
   "execution_count": 6,
   "metadata": {
    "collapsed": false
   },
   "outputs": [
    {
     "name": "stdout",
     "output_type": "stream",
     "text": [
      "All files found!\n"
     ]
    }
   ],
   "source": [
    "\"\"\"\n",
    "DON'T MODIFY ANYTHING IN THIS CELL THAT IS BELOW THIS LINE\n",
    "\"\"\"\n",
    "from urllib.request import urlretrieve\n",
    "from os.path import isfile, isdir\n",
    "from tqdm import tqdm\n",
    "import problem_unittests as tests\n",
    "import tarfile\n",
    "\n",
    "cifar10_dataset_folder_path = 'cifar-10-batches-py'\n",
    "\n",
    "class DLProgress(tqdm):\n",
    "    last_block = 0\n",
    "\n",
    "    def hook(self, block_num=1, block_size=1, total_size=None):\n",
    "        self.total = total_size\n",
    "        self.update((block_num - self.last_block) * block_size)\n",
    "        self.last_block = block_num\n",
    "\n",
    "if not isfile('cifar-10-python.tar.gz'):\n",
    "    with DLProgress(unit='B', unit_scale=True, miniters=1, desc='CIFAR-10 Dataset') as pbar:\n",
    "        urlretrieve(\n",
    "            'https://www.cs.toronto.edu/~kriz/cifar-10-python.tar.gz',\n",
    "            'cifar-10-python.tar.gz',\n",
    "            pbar.hook)\n",
    "\n",
    "if not isdir(cifar10_dataset_folder_path):\n",
    "    with tarfile.open('cifar-10-python.tar.gz') as tar:\n",
    "        tar.extractall()\n",
    "        tar.close()\n",
    "\n",
    "\n",
    "tests.test_folder_path(cifar10_dataset_folder_path)"
   ]
  },
  {
   "cell_type": "markdown",
   "metadata": {},
   "source": [
    "## Explore the Data\n",
    "The dataset is broken into batches to prevent your machine from running out of memory.  The CIFAR-10 dataset consists of 5 batches, named `data_batch_1`, `data_batch_2`, etc.. Each batch contains the labels and images that are one of the following:\n",
    "* airplane\n",
    "* automobile\n",
    "* bird\n",
    "* cat\n",
    "* deer\n",
    "* dog\n",
    "* frog\n",
    "* horse\n",
    "* ship\n",
    "* truck\n",
    "\n",
    "Understanding a dataset is part of making predictions on the data.  Play around with the code cell below by changing the `batch_id` and `sample_id`. The `batch_id` is the id for a batch (1-5). The `sample_id` is the id for a image and label pair in the batch.\n",
    "\n",
    "Ask yourself \"What are all possible labels?\", \"What is the range of values for the image data?\", \"Are the labels in order or random?\".  Answers to questions like these will help you preprocess the data and end up with better predictions."
   ]
  },
  {
   "cell_type": "code",
   "execution_count": 7,
   "metadata": {
    "collapsed": false
   },
   "outputs": [
    {
     "name": "stdout",
     "output_type": "stream",
     "text": [
      "\n",
      "Stats of batch 1:\n",
      "Samples: 10000\n",
      "Label Counts: {0: 1005, 1: 974, 2: 1032, 3: 1016, 4: 999, 5: 937, 6: 1030, 7: 1001, 8: 1025, 9: 981}\n",
      "First 20 Labels: [6, 9, 9, 4, 1, 1, 2, 7, 8, 3, 4, 7, 7, 2, 9, 9, 9, 3, 2, 6]\n",
      "\n",
      "Example of Image 5:\n",
      "Image - Min Value: 0 Max Value: 252\n",
      "Image - Shape: (32, 32, 3)\n",
      "Label - Label Id: 1 Name: automobile\n"
     ]
    },
    {
     "data": {
      "image/png": "[encoded data removed]",
      "text/plain": [
       "<matplotlib.figure.Figure at 0x122617898>"
      ]
     },
     "metadata": {
      "image/png": {
       "height": 250,
       "width": 253
      }
     },
     "output_type": "display_data"
    }
   ],
   "source": [
    "%matplotlib inline\n",
    "%config InlineBackend.figure_format = 'retina'\n",
    "\n",
    "import helper\n",
    "import numpy as np\n",
    "\n",
    "# Explore the dataset\n",
    "batch_id = 1\n",
    "sample_id = 5\n",
    "helper.display_stats(cifar10_dataset_folder_path, batch_id, sample_id)"
   ]
  },
  {
   "cell_type": "markdown",
   "metadata": {},
   "source": [
    "## Implement Preprocess Functions\n",
    "### Normalize\n",
    "In the cell below, implement the `normalize` function to take in image data, `x`, and return it as a normalized Numpy array. The values should be in the range of 0 to 1, inclusive.  The return object should be the same shape as `x`."
   ]
  },
  {
   "cell_type": "code",
   "execution_count": 8,
   "metadata": {
    "collapsed": false
   },
   "outputs": [
    {
     "name": "stdout",
     "output_type": "stream",
     "text": [
      "Tests Passed\n"
     ]
    }
   ],
   "source": [
    "def normalize(x):\n",
    "    \"\"\"\n",
    "    Normalize a list of sample image data in the range of 0 to 1\n",
    "    : x: List of image data.  The image shape is (32, 32, 3)\n",
    "    : return: Numpy array of normalize data\n",
    "    \"\"\"\n",
    "    # TODO: Implement Function\n",
    "    return x/255\n",
    "\n",
    "\n",
    "\"\"\"\n",
    "DON'T MODIFY ANYTHING IN THIS CELL THAT IS BELOW THIS LINE\n",
    "\"\"\"\n",
    "tests.test_normalize(normalize)"
   ]
  },
  {
   "cell_type": "markdown",
   "metadata": {},
   "source": [
    "### One-hot encode\n",
    "Just like the previous code cell, you'll be implementing a function for preprocessing.  This time, you'll implement the `one_hot_encode` function. The input, `x`, are a list of labels.  Implement the function to return the list of labels as One-Hot encoded Numpy array.  The possible values for labels are 0 to 9. The one-hot encoding function should return the same encoding for each value between each call to `one_hot_encode`.  Make sure to save the map of encodings outside the function.\n",
    "\n",
    "Hint: Don't reinvent the wheel."
   ]
  },
  {
   "cell_type": "code",
   "execution_count": 9,
   "metadata": {
    "collapsed": false
   },
   "outputs": [
    {
     "name": "stdout",
     "output_type": "stream",
     "text": [
      "Tests Passed\n"
     ]
    }
   ],
   "source": [
    "def one_hot_encode(x):\n",
    "    \"\"\"\n",
    "    One hot encode a list of sample labels. Return a one-hot encoded vector for each label.\n",
    "    : x: List of sample Labels\n",
    "    : return: Numpy array of one-hot encoded labels\n",
    "    \"\"\"\n",
    "    # TODO: Implement Function\n",
    "    one_hot_encoded_vector = []\n",
    "    for label in x:\n",
    "        label_encode = []\n",
    "        for i in range(10):\n",
    "            if i == label:\n",
    "                label_encode.append(1)\n",
    "            else:\n",
    "                label_encode.append(0)\n",
    "        one_hot_encoded_vector.append(label_encode)\n",
    "#     print(one_hot_encoded_vector)\n",
    "    return np.array(one_hot_encoded_vector)\n",
    "\n",
    "\n",
    "\"\"\"\n",
    "DON'T MODIFY ANYTHING IN THIS CELL THAT IS BELOW THIS LINE\n",
    "\"\"\"\n",
    "tests.test_one_hot_encode(one_hot_encode)"
   ]
  },
  {
   "cell_type": "markdown",
   "metadata": {},
   "source": [
    "### Randomize Data\n",
    "As you saw from exploring the data above, the order of the samples are randomized.  It doesn't hurt to randomize it again, but you don't need to for this dataset."
   ]
  },
  {
   "cell_type": "markdown",
   "metadata": {},
   "source": [
    "## Preprocess all the data and save it\n",
    "Running the code cell below will preprocess all the CIFAR-10 data and save it to file. The code below also uses 10% of the training data for validation."
   ]
  },
  {
   "cell_type": "code",
   "execution_count": 10,
   "metadata": {
    "collapsed": false
   },
   "outputs": [],
   "source": [
    "\"\"\"\n",
    "DON'T MODIFY ANYTHING IN THIS CELL\n",
    "\"\"\"\n",
    "# Preprocess Training, Validation, and Testing Data\n",
    "helper.preprocess_and_save_data(cifar10_dataset_folder_path, normalize, one_hot_encode)"
   ]
  },
  {
   "cell_type": "markdown",
   "metadata": {},
   "source": [
    "# Check Point\n",
    "This is your first checkpoint.  If you ever decide to come back to this notebook or have to restart the notebook, you can start from here.  The preprocessed data has been saved to disk."
   ]
  },
  {
   "cell_type": "code",
   "execution_count": 11,
   "metadata": {
    "collapsed": true
   },
   "outputs": [],
   "source": [
    "\"\"\"\n",
    "DON'T MODIFY ANYTHING IN THIS CELL\n",
    "\"\"\"\n",
    "import pickle\n",
    "import problem_unittests as tests\n",
    "import helper\n",
    "\n",
    "# Load the Preprocessed Validation data\n",
    "valid_features, valid_labels = pickle.load(open('preprocess_validation.p', mode='rb'))"
   ]
  },
  {
   "cell_type": "markdown",
   "metadata": {},
   "source": [
    "## Build the network\n",
    "For the neural network, you'll build each layer into a function.  Most of the code you've seen has been outside of functions. To test your code more thoroughly, we require that you put each layer in a function.  This allows us to give you better feedback and test for simple mistakes using our unittests before you submit your project.\n",
    "\n",
    ">**Note:** If you're finding it hard to dedicate enough time for this course each week, we've provided a small shortcut to this part of the project. In the next couple of problems, you'll have the option to use classes from the [TensorFlow Layers](https://www.tensorflow.org/api_docs/python/tf/layers) or [TensorFlow Layers (contrib)](https://www.tensorflow.org/api_guides/python/contrib.layers) packages to build each layer, except the layers you build in the \"Convolutional and Max Pooling Layer\" section.  TF Layers is similar to Keras's and TFLearn's abstraction to layers, so it's easy to pickup.\n",
    "\n",
    ">However, if you would like to get the most out of this course, try to solve all the problems _without_ using anything from the TF Layers packages. You **can** still use classes from other packages that happen to have the same name as ones you find in TF Layers! For example, instead of using the TF Layers version of the `conv2d` class, [tf.layers.conv2d](https://www.tensorflow.org/api_docs/python/tf/layers/conv2d), you would want to use the TF Neural Network version of `conv2d`, [tf.nn.conv2d](https://www.tensorflow.org/api_docs/python/tf/nn/conv2d). \n",
    "\n",
    "Let's begin!\n",
    "\n",
    "### Input\n",
    "The neural network needs to read the image data, one-hot encoded labels, and dropout keep probability. Implement the following functions\n",
    "* Implement `neural_net_image_input`\n",
    " * Return a [TF Placeholder](https://www.tensorflow.org/api_docs/python/tf/placeholder)\n",
    " * Set the shape using `image_shape` with batch size set to `None`.\n",
    " * Name the TensorFlow placeholder \"x\" using the TensorFlow `name` parameter in the [TF Placeholder](https://www.tensorflow.org/api_docs/python/tf/placeholder).\n",
    "* Implement `neural_net_label_input`\n",
    " * Return a [TF Placeholder](https://www.tensorflow.org/api_docs/python/tf/placeholder)\n",
    " * Set the shape using `n_classes` with batch size set to `None`.\n",
    " * Name the TensorFlow placeholder \"y\" using the TensorFlow `name` parameter in the [TF Placeholder](https://www.tensorflow.org/api_docs/python/tf/placeholder).\n",
    "* Implement `neural_net_keep_prob_input`\n",
    " * Return a [TF Placeholder](https://www.tensorflow.org/api_docs/python/tf/placeholder) for dropout keep probability.\n",
    " * Name the TensorFlow placeholder \"keep_prob\" using the TensorFlow `name` parameter in the [TF Placeholder](https://www.tensorflow.org/api_docs/python/tf/placeholder).\n",
    "\n",
    "These names will be used at the end of the project to load your saved model.\n",
    "\n",
    "Note: `None` for shapes in TensorFlow allow for a dynamic size."
   ]
  },
  {
   "cell_type": "code",
   "execution_count": 12,
   "metadata": {
    "collapsed": false
   },
   "outputs": [
    {
     "name": "stdout",
     "output_type": "stream",
     "text": [
      "Image Input Tests Passed.\n",
      "Label Input Tests Passed.\n",
      "Keep Prob Tests Passed.\n"
     ]
    }
   ],
   "source": [
    "import tensorflow as tf\n",
    "\n",
    "def neural_net_image_input(image_shape):\n",
    "    \"\"\"\n",
    "    Return a Tensor for a batch of image input\n",
    "    : image_shape: Shape of the images\n",
    "    : return: Tensor for image input.\n",
    "    \"\"\"\n",
    "    # TODO: Implement Function\n",
    "    return tf.placeholder(tf.float32,[None]+list(image_shape),'x')\n",
    "    # input image shape: [Batchsize = None, image_height, image_width, color_channel]\n",
    "\n",
    "\n",
    "def neural_net_label_input(n_classes):\n",
    "    \"\"\"\n",
    "    Return a Tensor for a batch of label input\n",
    "    : n_classes: Number of classes\n",
    "    : return: Tensor for label input.\n",
    "    \"\"\"\n",
    "    # TODO: Implement Function\n",
    "    return tf.placeholder(tf.float32,[None,n_classes],'y')\n",
    "\n",
    "\n",
    "def neural_net_keep_prob_input():\n",
    "    \"\"\"\n",
    "    Return a Tensor for keep probability\n",
    "    : return: Tensor for keep probability.\n",
    "    \"\"\"\n",
    "    # TODO: Implement Function\n",
    "    return tf.placeholder(tf.float32,None,'keep_prob')\n",
    "\n",
    "\n",
    "\"\"\"\n",
    "DON'T MODIFY ANYTHING IN THIS CELL THAT IS BELOW THIS LINE\n",
    "\"\"\"\n",
    "tf.reset_default_graph()\n",
    "tests.test_nn_image_inputs(neural_net_image_input)\n",
    "tests.test_nn_label_inputs(neural_net_label_input)\n",
    "tests.test_nn_keep_prob_inputs(neural_net_keep_prob_input)"
   ]
  },
  {
   "cell_type": "markdown",
   "metadata": {},
   "source": [
    "### Convolution and Max Pooling Layer\n",
    "Convolution layers have a lot of success with images. For this code cell, you should implement the function `conv2d_maxpool` to apply convolution then max pooling:\n",
    "* Create the weight and bias using `conv_ksize`, `conv_num_outputs` and the shape of `x_tensor`.\n",
    "* Apply a convolution to `x_tensor` using weight and `conv_strides`.\n",
    " * We recommend you use same padding, but you're welcome to use any padding.\n",
    "* Add bias\n",
    "* Add a nonlinear activation to the convolution.\n",
    "* Apply Max Pooling using `pool_ksize` and `pool_strides`.\n",
    " * We recommend you use same padding, but you're welcome to use any padding.\n",
    "\n",
    "**Note:** You **can't** use [TensorFlow Layers](https://www.tensorflow.org/api_docs/python/tf/layers) or [TensorFlow Layers (contrib)](https://www.tensorflow.org/api_guides/python/contrib.layers) for **this** layer, but you can still use TensorFlow's [Neural Network](https://www.tensorflow.org/api_docs/python/tf/nn) package. You may still use the shortcut option for all the **other** layers."
   ]
  },
  {
   "cell_type": "code",
   "execution_count": 13,
   "metadata": {
    "collapsed": false
   },
   "outputs": [
    {
     "name": "stdout",
     "output_type": "stream",
     "text": [
      "Tests Passed\n"
     ]
    }
   ],
   "source": [
    "def conv2d_maxpool(x_tensor, conv_num_outputs, conv_ksize, conv_strides, pool_ksize, pool_strides):\n",
    "    \"\"\"\n",
    "    Apply convolution then max pooling to x_tensor\n",
    "    :param x_tensor: TensorFlow Tensor\n",
    "    :param conv_num_outputs: Number of outputs for the convolutional layer\n",
    "    :param conv_ksize: kernal size 2-D Tuple for the convolutional layer\n",
    "    :param conv_strides: Stride 2-D Tuple for convolution\n",
    "    :param pool_ksize: kernal size 2-D Tuple for pool\n",
    "    :param pool_strides: Stride 2-D Tuple for pool\n",
    "    : return: A tensor that represents convolution and max pooling of x_tensor\n",
    "    \"\"\"\n",
    "    # TODO: Implement Function\n",
    "    \n",
    "    color_channel = x_tensor.get_shape().as_list()[-1]\n",
    "    convWeight = tf.Variable(tf.truncated_normal(list(conv_ksize)+[color_channel,conv_num_outputs],stddev=0.01)) #[filter_size_height, filter_size_width, color_channel, conv_output]\n",
    "    convBias = tf.Variable(tf.zeros(conv_num_outputs))\n",
    "    \n",
    "    conv_layer = tf.nn.conv2d(x_tensor, convWeight, [1]+list(conv_strides)+[1],'SAME') #strides = [batch=1, input_height, input_width, input_channels=1]\n",
    "    conv_layer = tf.nn.bias_add(conv_layer,convBias)\n",
    "    conv_layer = tf.nn.relu(conv_layer)\n",
    "    \n",
    "    maxPooled_conv_layer = tf.nn.max_pool(conv_layer, [1]+list(pool_ksize)+[1], [1]+list(pool_strides)+[1], 'SAME')\n",
    "    \n",
    "    return maxPooled_conv_layer\n",
    "\n",
    "\n",
    "\"\"\"\n",
    "DON'T MODIFY ANYTHING IN THIS CELL THAT IS BELOW THIS LINE\n",
    "\"\"\"\n",
    "tests.test_con_pool(conv2d_maxpool)"
   ]
  },
  {
   "cell_type": "markdown",
   "metadata": {},
   "source": [
    "### Flatten Layer\n",
    "Implement the `flatten` function to change the dimension of `x_tensor` from a 4-D tensor to a 2-D tensor.  The output should be the shape (*Batch Size*, *Flattened Image Size*). Shortcut option: you can use classes from the [TensorFlow Layers](https://www.tensorflow.org/api_docs/python/tf/layers) or [TensorFlow Layers (contrib)](https://www.tensorflow.org/api_guides/python/contrib.layers) packages for this layer. For more of a challenge, only use other TensorFlow packages."
   ]
  },
  {
   "cell_type": "code",
   "execution_count": 14,
   "metadata": {
    "collapsed": false
   },
   "outputs": [
    {
     "name": "stdout",
     "output_type": "stream",
     "text": [
      "Tests Passed\n"
     ]
    }
   ],
   "source": [
    "def flatten(x_tensor):\n",
    "    \"\"\"\n",
    "    Flatten x_tensor to (Batch Size, Flattened Image Size)\n",
    "    : x_tensor: A tensor of size (Batch Size, ...), where ... are the image dimensions.\n",
    "    : return: A tensor of size (Batch Size, Flattened Image Size).\n",
    "    \"\"\"\n",
    "    # TODO: Implement Function\n",
    "    feature_shape = x_tensor.get_shape().as_list()\n",
    "    falttened_size = np.prod(feature_shape[1:])\n",
    "    return tf.reshape(x_tensor,[-1,falttened_size])\n",
    "#     print(tf.reshape(x_tensor,[-1,falttened_size]))\n",
    "\n",
    "\n",
    "\"\"\"\n",
    "DON'T MODIFY ANYTHING IN THIS CELL THAT IS BELOW THIS LINE\n",
    "\"\"\"\n",
    "tests.test_flatten(flatten)"
   ]
  },
  {
   "cell_type": "markdown",
   "metadata": {},
   "source": [
    "### Fully-Connected Layer\n",
    "Implement the `fully_conn` function to apply a fully connected layer to `x_tensor` with the shape (*Batch Size*, *num_outputs*). Shortcut option: you can use classes from the [TensorFlow Layers](https://www.tensorflow.org/api_docs/python/tf/layers) or [TensorFlow Layers (contrib)](https://www.tensorflow.org/api_guides/python/contrib.layers) packages for this layer. For more of a challenge, only use other TensorFlow packages."
   ]
  },
  {
   "cell_type": "code",
   "execution_count": 15,
   "metadata": {
    "collapsed": false
   },
   "outputs": [
    {
     "name": "stdout",
     "output_type": "stream",
     "text": [
      "Tests Passed\n"
     ]
    }
   ],
   "source": [
    "def fully_conn(x_tensor, num_outputs):\n",
    "    \"\"\"\n",
    "    Apply a fully connected layer to x_tensor using weight and bias\n",
    "    : x_tensor: A 2-D tensor where the first dimension is batch size.\n",
    "    : num_outputs: The number of output that the new tensor should be.\n",
    "    : return: A 2-D tensor where the second dimension is num_outputs.\n",
    "    \"\"\"\n",
    "    # TODO: Implement Function\n",
    "    input_shape = x_tensor.get_shape().as_list()[-1]\n",
    "    weight = tf.Variable(tf.truncated_normal([input_shape,num_outputs],stddev=0.01))\n",
    "    bias = tf.Variable(tf.zeros(num_outputs))\n",
    "    \n",
    "    fully_con_layer = tf.add(tf.matmul(x_tensor,weight),bias)\n",
    "    fully_con_layer = tf.nn.relu(fully_con_layer)\n",
    "    \n",
    "    return fully_con_layer\n",
    "\n",
    "\n",
    "\"\"\"\n",
    "DON'T MODIFY ANYTHING IN THIS CELL THAT IS BELOW THIS LINE\n",
    "\"\"\"\n",
    "tests.test_fully_conn(fully_conn)"
   ]
  },
  {
   "cell_type": "markdown",
   "metadata": {},
   "source": [
    "### Output Layer\n",
    "Implement the `output` function to apply a fully connected layer to `x_tensor` with the shape (*Batch Size*, *num_outputs*). Shortcut option: you can use classes from the [TensorFlow Layers](https://www.tensorflow.org/api_docs/python/tf/layers) or [TensorFlow Layers (contrib)](https://www.tensorflow.org/api_guides/python/contrib.layers) packages for this layer. For more of a challenge, only use other TensorFlow packages.\n",
    "\n",
    "**Note:** Activation, softmax, or cross entropy should **not** be applied to this."
   ]
  },
  {
   "cell_type": "code",
   "execution_count": 16,
   "metadata": {
    "collapsed": false
   },
   "outputs": [
    {
     "name": "stdout",
     "output_type": "stream",
     "text": [
      "Tests Passed\n"
     ]
    }
   ],
   "source": [
    "def output(x_tensor, num_outputs):\n",
    "    \"\"\"\n",
    "    Apply a output layer to x_tensor using weight and bias\n",
    "    : x_tensor: A 2-D tensor where the first dimension is batch size.\n",
    "    : num_outputs: The number of output that the new tensor should be.\n",
    "    : return: A 2-D tensor where the second dimension is num_outputs.\n",
    "    \"\"\"\n",
    "    # TODO: Implement Function\n",
    "    \n",
    "    intput_shape = x_tensor.get_shape().as_list()[-1]\n",
    "    weight = tf.Variable(tf.truncated_normal([intput_shape,num_outputs],stddev=0.01))\n",
    "    bias = tf.Variable(tf.zeros(num_outputs))\n",
    "    \n",
    "    output_layer = tf.add(tf.matmul(x_tensor,weight),bias)\n",
    "    \n",
    "    return output_layer\n",
    "\n",
    "\n",
    "\"\"\"\n",
    "DON'T MODIFY ANYTHING IN THIS CELL THAT IS BELOW THIS LINE\n",
    "\"\"\"\n",
    "tests.test_output(output)"
   ]
  },
  {
   "cell_type": "markdown",
   "metadata": {},
   "source": [
    "### Create Convolutional Model\n",
    "Implement the function `conv_net` to create a convolutional neural network model. The function takes in a batch of images, `x`, and outputs logits.  Use the layers you created above to create this model:\n",
    "\n",
    "* Apply 1, 2, or 3 Convolution and Max Pool layers\n",
    "* Apply a Flatten Layer\n",
    "* Apply 1, 2, or 3 Fully Connected Layers\n",
    "* Apply an Output Layer\n",
    "* Return the output\n",
    "* Apply [TensorFlow's Dropout](https://www.tensorflow.org/api_docs/python/tf/nn/dropout) to one or more layers in the model using `keep_prob`. "
   ]
  },
  {
   "cell_type": "code",
   "execution_count": 45,
   "metadata": {
    "collapsed": false
   },
   "outputs": [
    {
     "name": "stdout",
     "output_type": "stream",
     "text": [
      "Neural Network Built!\n"
     ]
    }
   ],
   "source": [
    "def conv_net(x, keep_prob):\n",
    "    \"\"\"\n",
    "    Create a convolutional neural network model\n",
    "    : x: Placeholder tensor that holds image data.\n",
    "    : keep_prob: Placeholder tensor that hold dropout keep probability.\n",
    "    : return: Tensor that represents logits\n",
    "    \"\"\"\n",
    "    # TODO: Apply 1, 2, or 3 Convolution and Max Pool layers\n",
    "    #    Play around with different number of outputs, kernel size and stride\n",
    "    # Function Definition from Above:\n",
    "    #    conv2d_maxpool(x_tensor, conv_num_outputs, conv_ksize, conv_strides, pool_ksize, pool_strides)\n",
    "    \n",
    "    conv_layer1 = conv2d_maxpool(x, 80, (8,8), (2,2), (4,4), (2,2))\n",
    "    conv_layer2 = conv2d_maxpool(conv_layer1, 120, (4,4), (2,2), (2,2), (2,2))\n",
    "    conv_layer3 = conv2d_maxpool(conv_layer2, 140, (2,2), (2,2), (2,2), (2,2))\n",
    "\n",
    "\n",
    "    # TODO: Apply a Flatten Layer\n",
    "    # Function Definition from Above:\n",
    "    #   flatten(x_tensor)\n",
    "    flattened_layer = flatten(conv_layer3)\n",
    "    \n",
    "\n",
    "    # TODO: Apply 1, 2, or 3 Fully Connected Layers\n",
    "    #    Play around with different number of outputs\n",
    "    # Function Definition from Above:\n",
    "    #   fully_conn(x_tensor, num_outputs)\n",
    "    fully_conn_layer1 = fully_conn(flattened_layer, 1000)\n",
    "    fully_conn_layer1 = tf.nn.dropout(fully_conn_layer1, keep_prob) #Apply dropout\n",
    "    fully_conn_layer2 = fully_conn(fully_conn_layer1, 500)\n",
    "    fully_conn_layer2 = tf.nn.dropout(fully_conn_layer2, keep_prob) #Apply dropout\n",
    "    \n",
    "    # TODO: Apply an Output Layer\n",
    "    #    Set this to the number of classes\n",
    "    # Function Definition from Above:\n",
    "    #   output(x_tensor, num_outputs)\n",
    "    output_layer = output(fully_conn_layer2, 10)\n",
    "    \n",
    "    # TODO: return output\n",
    "    return output_layer\n",
    "\n",
    "\n",
    "\"\"\"\n",
    "DON'T MODIFY ANYTHING IN THIS CELL THAT IS BELOW THIS LINE\n",
    "\"\"\"\n",
    "\n",
    "##############################\n",
    "## Build the Neural Network ##\n",
    "##############################\n",
    "\n",
    "# Remove previous weights, bias, inputs, etc..\n",
    "tf.reset_default_graph()\n",
    "\n",
    "# Inputs\n",
    "x = neural_net_image_input((32, 32, 3))\n",
    "y = neural_net_label_input(10)\n",
    "keep_prob = neural_net_keep_prob_input()\n",
    "\n",
    "# Model\n",
    "logits = conv_net(x, keep_prob)\n",
    "\n",
    "# Name logits Tensor, so that is can be loaded from disk after training\n",
    "logits = tf.identity(logits, name='logits')\n",
    "\n",
    "# Loss and Optimizer\n",
    "cost = tf.reduce_mean(tf.nn.softmax_cross_entropy_with_logits(logits=logits, labels=y))\n",
    "optimizer = tf.train.AdamOptimizer().minimize(cost)\n",
    "\n",
    "# Accuracy\n",
    "correct_pred = tf.equal(tf.argmax(logits, 1), tf.argmax(y, 1))\n",
    "accuracy = tf.reduce_mean(tf.cast(correct_pred, tf.float32), name='accuracy')\n",
    "\n",
    "tests.test_conv_net(conv_net)"
   ]
  },
  {
   "cell_type": "markdown",
   "metadata": {},
   "source": [
    "## Train the Neural Network\n",
    "### Single Optimization\n",
    "Implement the function `train_neural_network` to do a single optimization.  The optimization should use `optimizer` to optimize in `session` with a `feed_dict` of the following:\n",
    "* `x` for image input\n",
    "* `y` for labels\n",
    "* `keep_prob` for keep probability for dropout\n",
    "\n",
    "This function will be called for each batch, so `tf.global_variables_initializer()` has already been called.\n",
    "\n",
    "Note: Nothing needs to be returned. This function is only optimizing the neural network."
   ]
  },
  {
   "cell_type": "code",
   "execution_count": 41,
   "metadata": {
    "collapsed": false
   },
   "outputs": [
    {
     "name": "stdout",
     "output_type": "stream",
     "text": [
      "Tests Passed\n"
     ]
    }
   ],
   "source": [
    "def train_neural_network(session, optimizer, keep_probability, feature_batch, label_batch):\n",
    "    \"\"\"\n",
    "    Optimize the session on a batch of images and labels\n",
    "    : session: Current TensorFlow session\n",
    "    : optimizer: TensorFlow optimizer function\n",
    "    : keep_probability: keep probability\n",
    "    : feature_batch: Batch of Numpy image data\n",
    "    : label_batch: Batch of Numpy label data\n",
    "    \"\"\"\n",
    "    # TODO: Implement Function\n",
    "    session.run(optimizer, feed_dict={x:feature_batch, y:label_batch, keep_prob:keep_probability})\n",
    "\n",
    "\n",
    "\"\"\"\n",
    "DON'T MODIFY ANYTHING IN THIS CELL THAT IS BELOW THIS LINE\n",
    "\"\"\"\n",
    "tests.test_train_nn(train_neural_network)"
   ]
  },
  {
   "cell_type": "markdown",
   "metadata": {},
   "source": [
    "### Show Stats\n",
    "Implement the function `print_stats` to print loss and validation accuracy.  Use the global variables `valid_features` and `valid_labels` to calculate validation accuracy.  Use a keep probability of `1.0` to calculate the loss and validation accuracy."
   ]
  },
  {
   "cell_type": "code",
   "execution_count": 42,
   "metadata": {
    "collapsed": false
   },
   "outputs": [],
   "source": [
    "def print_stats(session, feature_batch, label_batch, cost, accuracy):\n",
    "    \"\"\"\n",
    "    Print information about loss and validation accuracy\n",
    "    : session: Current TensorFlow session\n",
    "    : feature_batch: Batch of Numpy image data\n",
    "    : label_batch: Batch of Numpy label data\n",
    "    : cost: TensorFlow cost function\n",
    "    : accuracy: TensorFlow accuracy function\n",
    "    \"\"\"\n",
    "    # TODO: Implement Function\n",
    "    loss = session.run(cost, feed_dict = {x:feature_batch, y:label_batch, keep_prob:1.0})\n",
    "    valid_accuracy = session.run(accuracy, feed_dict = {x:valid_features, y:valid_labels, keep_prob:1.0})\n",
    "    print('Loss: {}'.format(loss), 'Validation Accuracy: {}'.format(valid_accuracy))"
   ]
  },
  {
   "cell_type": "markdown",
   "metadata": {},
   "source": [
    "### Hyperparameters\n",
    "Tune the following parameters:\n",
    "* Set `epochs` to the number of iterations until the network stops learning or start overfitting\n",
    "* Set `batch_size` to the highest number that your machine has memory for.  Most people set them to common sizes of memory:\n",
    " * 64\n",
    " * 128\n",
    " * 256\n",
    " * ...\n",
    "* Set `keep_probability` to the probability of keeping a node using dropout"
   ]
  },
  {
   "cell_type": "code",
   "execution_count": 46,
   "metadata": {
    "collapsed": true
   },
   "outputs": [],
   "source": [
    "# TODO: Tune Parameters\n",
    "epochs = 50\n",
    "batch_size = 512\n",
    "keep_probability = 0.7"
   ]
  },
  {
   "cell_type": "markdown",
   "metadata": {},
   "source": [
    "### Train on a Single CIFAR-10 Batch\n",
    "Instead of training the neural network on all the CIFAR-10 batches of data, let's use a single batch. This should save time while you iterate on the model to get a better accuracy.  Once the final validation accuracy is 50% or greater, run the model on all the data in the next section."
   ]
  },
  {
   "cell_type": "code",
   "execution_count": 47,
   "metadata": {
    "collapsed": false,
    "scrolled": true
   },
   "outputs": [
    {
     "name": "stdout",
     "output_type": "stream",
     "text": [
      "Checking the Training on a Single Batch...\n",
      "Epoch  1, CIFAR-10 Batch 1:  Loss: 2.237372636795044 Validation Accuracy: 0.12639999389648438\n",
      "Epoch  2, CIFAR-10 Batch 1:  Loss: 2.1196725368499756 Validation Accuracy: 0.20059999823570251\n",
      "Epoch  3, CIFAR-10 Batch 1:  Loss: 2.0856423377990723 Validation Accuracy: 0.18960000574588776\n",
      "Epoch  4, CIFAR-10 Batch 1:  Loss: 2.0584585666656494 Validation Accuracy: 0.19300000369548798\n",
      "Epoch  5, CIFAR-10 Batch 1:  Loss: 2.0239386558532715 Validation Accuracy: 0.22660000622272491\n",
      "Epoch  6, CIFAR-10 Batch 1:  Loss: 1.9774582386016846 Validation Accuracy: 0.2443999946117401\n",
      "Epoch  7, CIFAR-10 Batch 1:  Loss: 1.924228310585022 Validation Accuracy: 0.28859999775886536\n",
      "Epoch  8, CIFAR-10 Batch 1:  Loss: 1.8347514867782593 Validation Accuracy: 0.301800012588501\n",
      "Epoch  9, CIFAR-10 Batch 1:  Loss: 1.8267935514450073 Validation Accuracy: 0.33739998936653137\n",
      "Epoch 10, CIFAR-10 Batch 1:  Loss: 1.7548497915267944 Validation Accuracy: 0.34380000829696655\n",
      "Epoch 11, CIFAR-10 Batch 1:  Loss: 1.707934856414795 Validation Accuracy: 0.35600000619888306\n",
      "Epoch 12, CIFAR-10 Batch 1:  Loss: 1.6393646001815796 Validation Accuracy: 0.382999986410141\n",
      "Epoch 13, CIFAR-10 Batch 1:  Loss: 1.5999408960342407 Validation Accuracy: 0.38940000534057617\n",
      "Epoch 14, CIFAR-10 Batch 1:  Loss: 1.5614029169082642 Validation Accuracy: 0.39579999446868896\n",
      "Epoch 15, CIFAR-10 Batch 1:  Loss: 1.5097194910049438 Validation Accuracy: 0.4000000059604645\n",
      "Epoch 16, CIFAR-10 Batch 1:  Loss: 1.4536800384521484 Validation Accuracy: 0.41519999504089355\n",
      "Epoch 17, CIFAR-10 Batch 1:  Loss: 1.3933544158935547 Validation Accuracy: 0.4318000078201294\n",
      "Epoch 18, CIFAR-10 Batch 1:  Loss: 1.3427543640136719 Validation Accuracy: 0.43720000982284546\n",
      "Epoch 19, CIFAR-10 Batch 1:  Loss: 1.2978520393371582 Validation Accuracy: 0.4426000118255615\n",
      "Epoch 20, CIFAR-10 Batch 1:  Loss: 1.2263649702072144 Validation Accuracy: 0.4607999920845032\n",
      "Epoch 21, CIFAR-10 Batch 1:  Loss: 1.2199418544769287 Validation Accuracy: 0.459199994802475\n",
      "Epoch 22, CIFAR-10 Batch 1:  Loss: 1.1751219034194946 Validation Accuracy: 0.46320000290870667\n",
      "Epoch 23, CIFAR-10 Batch 1:  Loss: 1.1043057441711426 Validation Accuracy: 0.4758000075817108\n",
      "Epoch 24, CIFAR-10 Batch 1:  Loss: 1.0865325927734375 Validation Accuracy: 0.4620000123977661\n",
      "Epoch 25, CIFAR-10 Batch 1:  Loss: 1.0257937908172607 Validation Accuracy: 0.4740000069141388\n",
      "Epoch 26, CIFAR-10 Batch 1:  Loss: 0.9176754355430603 Validation Accuracy: 0.503600001335144\n",
      "Epoch 27, CIFAR-10 Batch 1:  Loss: 0.8822007179260254 Validation Accuracy: 0.4997999966144562\n",
      "Epoch 28, CIFAR-10 Batch 1:  Loss: 0.8348166346549988 Validation Accuracy: 0.5099999904632568\n",
      "Epoch 29, CIFAR-10 Batch 1:  Loss: 0.7925571203231812 Validation Accuracy: 0.5113999843597412\n",
      "Epoch 30, CIFAR-10 Batch 1:  Loss: 0.8755548596382141 Validation Accuracy: 0.4805999994277954\n",
      "Epoch 31, CIFAR-10 Batch 1:  Loss: 0.7623628377914429 Validation Accuracy: 0.5059999823570251\n",
      "Epoch 32, CIFAR-10 Batch 1:  Loss: 0.758176863193512 Validation Accuracy: 0.49459999799728394\n",
      "Epoch 33, CIFAR-10 Batch 1:  Loss: 0.7427690625190735 Validation Accuracy: 0.49459999799728394\n",
      "Epoch 34, CIFAR-10 Batch 1:  Loss: 0.6602492332458496 Validation Accuracy: 0.5163999795913696\n",
      "Epoch 35, CIFAR-10 Batch 1:  Loss: 0.6002235412597656 Validation Accuracy: 0.5120000243186951\n",
      "Epoch 36, CIFAR-10 Batch 1:  Loss: 0.546268105506897 Validation Accuracy: 0.49959999322891235\n",
      "Epoch 37, CIFAR-10 Batch 1:  Loss: 0.5309568643569946 Validation Accuracy: 0.49900001287460327\n",
      "Epoch 38, CIFAR-10 Batch 1:  Loss: 0.5226811766624451 Validation Accuracy: 0.49799999594688416\n",
      "Epoch 39, CIFAR-10 Batch 1:  Loss: 0.6490412950515747 Validation Accuracy: 0.4796000123023987\n",
      "Epoch 40, CIFAR-10 Batch 1:  Loss: 0.7210981249809265 Validation Accuracy: 0.4878000020980835\n",
      "Epoch 41, CIFAR-10 Batch 1:  Loss: 0.5026530623435974 Validation Accuracy: 0.5135999917984009\n",
      "Epoch 42, CIFAR-10 Batch 1:  Loss: 0.45650872588157654 Validation Accuracy: 0.5144000053405762\n",
      "Epoch 43, CIFAR-10 Batch 1:  Loss: 0.4535619914531708 Validation Accuracy: 0.4925999939441681\n",
      "Epoch 44, CIFAR-10 Batch 1:  Loss: 0.3923698663711548 Validation Accuracy: 0.5041999816894531\n",
      "Epoch 45, CIFAR-10 Batch 1:  Loss: 0.40942516922950745 Validation Accuracy: 0.521399974822998\n",
      "Epoch 46, CIFAR-10 Batch 1:  Loss: 0.39512166380882263 Validation Accuracy: 0.5016000270843506\n",
      "Epoch 47, CIFAR-10 Batch 1:  Loss: 0.3433954417705536 Validation Accuracy: 0.49540001153945923\n",
      "Epoch 48, CIFAR-10 Batch 1:  Loss: 0.2698640823364258 Validation Accuracy: 0.5167999863624573\n",
      "Epoch 49, CIFAR-10 Batch 1:  Loss: 0.4243045449256897 Validation Accuracy: 0.4812000095844269\n",
      "Epoch 50, CIFAR-10 Batch 1:  Loss: 0.36168503761291504 Validation Accuracy: 0.4973999857902527\n"
     ]
    }
   ],
   "source": [
    "\"\"\"\n",
    "DON'T MODIFY ANYTHING IN THIS CELL\n",
    "\"\"\"\n",
    "print('Checking the Training on a Single Batch...')\n",
    "with tf.Session() as sess:\n",
    "    # Initializing the variables\n",
    "    sess.run(tf.global_variables_initializer())\n",
    "    \n",
    "    # Training cycle\n",
    "    for epoch in range(epochs):\n",
    "        batch_i = 1\n",
    "        for batch_features, batch_labels in helper.load_preprocess_training_batch(batch_i, batch_size):\n",
    "            train_neural_network(sess, optimizer, keep_probability, batch_features, batch_labels)\n",
    "        print('Epoch {:>2}, CIFAR-10 Batch {}:  '.format(epoch + 1, batch_i), end='')\n",
    "        print_stats(sess, batch_features, batch_labels, cost, accuracy)"
   ]
  },
  {
   "cell_type": "code",
   "execution_count": 48,
   "metadata": {
    "collapsed": false,
    "scrolled": true
   },
   "outputs": [
    {
     "name": "stdout",
     "output_type": "stream",
     "text": [
      "Training...\n",
      "Epoch  1, CIFAR-10 Batch 1:  Loss: 2.280390977859497 Validation Accuracy: 0.11379999667406082\n",
      "Epoch  1, CIFAR-10 Batch 2:  Loss: 2.137826442718506 Validation Accuracy: 0.1770000010728836\n",
      "Epoch  1, CIFAR-10 Batch 3:  Loss: 2.0841116905212402 Validation Accuracy: 0.15399999916553497\n",
      "Epoch  1, CIFAR-10 Batch 4:  Loss: 2.015170097351074 Validation Accuracy: 0.17319999635219574\n",
      "Epoch  1, CIFAR-10 Batch 5:  Loss: 1.950295090675354 Validation Accuracy: 0.19539999961853027\n",
      "Epoch  2, CIFAR-10 Batch 1:  Loss: 2.004849672317505 Validation Accuracy: 0.21080000698566437\n",
      "Epoch  2, CIFAR-10 Batch 2:  Loss: 1.8998359441757202 Validation Accuracy: 0.22779999673366547\n",
      "Epoch  2, CIFAR-10 Batch 3:  Loss: 1.8093295097351074 Validation Accuracy: 0.24199999868869781\n",
      "Epoch  2, CIFAR-10 Batch 4:  Loss: 1.7319713830947876 Validation Accuracy: 0.29499998688697815\n",
      "Epoch  2, CIFAR-10 Batch 5:  Loss: 1.758655071258545 Validation Accuracy: 0.3402000069618225\n",
      "Epoch  3, CIFAR-10 Batch 1:  Loss: 1.7337075471878052 Validation Accuracy: 0.3596000075340271\n",
      "Epoch  3, CIFAR-10 Batch 2:  Loss: 1.6717355251312256 Validation Accuracy: 0.3752000033855438\n",
      "Epoch  3, CIFAR-10 Batch 3:  Loss: 1.4161376953125 Validation Accuracy: 0.39980000257492065\n",
      "Epoch  3, CIFAR-10 Batch 4:  Loss: 1.498903512954712 Validation Accuracy: 0.3959999978542328\n",
      "Epoch  3, CIFAR-10 Batch 5:  Loss: 1.5252944231033325 Validation Accuracy: 0.4092000126838684\n",
      "Epoch  4, CIFAR-10 Batch 1:  Loss: 1.5634565353393555 Validation Accuracy: 0.42239999771118164\n",
      "Epoch  4, CIFAR-10 Batch 2:  Loss: 1.5130596160888672 Validation Accuracy: 0.43320000171661377\n",
      "Epoch  4, CIFAR-10 Batch 3:  Loss: 1.2513495683670044 Validation Accuracy: 0.4440000057220459\n",
      "Epoch  4, CIFAR-10 Batch 4:  Loss: 1.3247225284576416 Validation Accuracy: 0.45899999141693115\n",
      "Epoch  4, CIFAR-10 Batch 5:  Loss: 1.4163919687271118 Validation Accuracy: 0.4569999873638153\n",
      "Epoch  5, CIFAR-10 Batch 1:  Loss: 1.415729284286499 Validation Accuracy: 0.4668000042438507\n",
      "Epoch  5, CIFAR-10 Batch 2:  Loss: 1.3236263990402222 Validation Accuracy: 0.4867999851703644\n",
      "Epoch  5, CIFAR-10 Batch 3:  Loss: 1.1536144018173218 Validation Accuracy: 0.48820000886917114\n",
      "Epoch  5, CIFAR-10 Batch 4:  Loss: 1.2044501304626465 Validation Accuracy: 0.5138000249862671\n",
      "Epoch  5, CIFAR-10 Batch 5:  Loss: 1.25767982006073 Validation Accuracy: 0.5180000066757202\n",
      "Epoch  6, CIFAR-10 Batch 1:  Loss: 1.3051193952560425 Validation Accuracy: 0.5167999863624573\n",
      "Epoch  6, CIFAR-10 Batch 2:  Loss: 1.2406375408172607 Validation Accuracy: 0.5162000060081482\n",
      "Epoch  6, CIFAR-10 Batch 3:  Loss: 1.0501585006713867 Validation Accuracy: 0.5329999923706055\n",
      "Epoch  6, CIFAR-10 Batch 4:  Loss: 1.1273486614227295 Validation Accuracy: 0.5347999930381775\n",
      "Epoch  6, CIFAR-10 Batch 5:  Loss: 1.1492323875427246 Validation Accuracy: 0.5374000072479248\n",
      "Epoch  7, CIFAR-10 Batch 1:  Loss: 1.2028281688690186 Validation Accuracy: 0.5342000126838684\n",
      "Epoch  7, CIFAR-10 Batch 2:  Loss: 1.1725521087646484 Validation Accuracy: 0.5496000051498413\n",
      "Epoch  7, CIFAR-10 Batch 3:  Loss: 1.0093162059783936 Validation Accuracy: 0.5509999990463257\n",
      "Epoch  7, CIFAR-10 Batch 4:  Loss: 1.037588119506836 Validation Accuracy: 0.5604000091552734\n",
      "Epoch  7, CIFAR-10 Batch 5:  Loss: 1.060974359512329 Validation Accuracy: 0.5465999841690063\n",
      "Epoch  8, CIFAR-10 Batch 1:  Loss: 1.1246631145477295 Validation Accuracy: 0.5526000261306763\n",
      "Epoch  8, CIFAR-10 Batch 2:  Loss: 1.0735265016555786 Validation Accuracy: 0.5720000267028809\n",
      "Epoch  8, CIFAR-10 Batch 3:  Loss: 0.9871444702148438 Validation Accuracy: 0.5654000043869019\n",
      "Epoch  8, CIFAR-10 Batch 4:  Loss: 0.9888731241226196 Validation Accuracy: 0.5680000185966492\n",
      "Epoch  8, CIFAR-10 Batch 5:  Loss: 0.967682421207428 Validation Accuracy: 0.5777999758720398\n",
      "Epoch  9, CIFAR-10 Batch 1:  Loss: 1.0425128936767578 Validation Accuracy: 0.5776000022888184\n",
      "Epoch  9, CIFAR-10 Batch 2:  Loss: 1.0457960367202759 Validation Accuracy: 0.5842000246047974\n",
      "Epoch  9, CIFAR-10 Batch 3:  Loss: 0.8976960182189941 Validation Accuracy: 0.5914000272750854\n",
      "Epoch  9, CIFAR-10 Batch 4:  Loss: 0.8950660228729248 Validation Accuracy: 0.6001999974250793\n",
      "Epoch  9, CIFAR-10 Batch 5:  Loss: 0.8839498162269592 Validation Accuracy: 0.5871999859809875\n",
      "Epoch 10, CIFAR-10 Batch 1:  Loss: 0.988767683506012 Validation Accuracy: 0.5817999839782715\n",
      "Epoch 10, CIFAR-10 Batch 2:  Loss: 0.9753587245941162 Validation Accuracy: 0.5960000157356262\n",
      "Epoch 10, CIFAR-10 Batch 3:  Loss: 0.8209249377250671 Validation Accuracy: 0.5961999893188477\n",
      "Epoch 10, CIFAR-10 Batch 4:  Loss: 0.8535141348838806 Validation Accuracy: 0.6000000238418579\n",
      "Epoch 10, CIFAR-10 Batch 5:  Loss: 0.8229105472564697 Validation Accuracy: 0.5978000164031982\n",
      "Epoch 11, CIFAR-10 Batch 1:  Loss: 0.9067590832710266 Validation Accuracy: 0.6100000143051147\n",
      "Epoch 11, CIFAR-10 Batch 2:  Loss: 0.8972246050834656 Validation Accuracy: 0.6033999919891357\n",
      "Epoch 11, CIFAR-10 Batch 3:  Loss: 0.7829846739768982 Validation Accuracy: 0.6128000020980835\n",
      "Epoch 11, CIFAR-10 Batch 4:  Loss: 0.8119010925292969 Validation Accuracy: 0.6033999919891357\n",
      "Epoch 11, CIFAR-10 Batch 5:  Loss: 0.7983648180961609 Validation Accuracy: 0.603600025177002\n",
      "Epoch 12, CIFAR-10 Batch 1:  Loss: 0.8924350142478943 Validation Accuracy: 0.6050000190734863\n",
      "Epoch 12, CIFAR-10 Batch 2:  Loss: 0.8682739734649658 Validation Accuracy: 0.6061999797821045\n",
      "Epoch 12, CIFAR-10 Batch 3:  Loss: 0.759174644947052 Validation Accuracy: 0.607200026512146\n",
      "Epoch 12, CIFAR-10 Batch 4:  Loss: 0.7325071692466736 Validation Accuracy: 0.6101999878883362\n",
      "Epoch 12, CIFAR-10 Batch 5:  Loss: 0.7014572620391846 Validation Accuracy: 0.6169999837875366\n",
      "Epoch 13, CIFAR-10 Batch 1:  Loss: 0.8281258344650269 Validation Accuracy: 0.6173999905586243\n",
      "Epoch 13, CIFAR-10 Batch 2:  Loss: 0.8100892305374146 Validation Accuracy: 0.6126000285148621\n",
      "Epoch 13, CIFAR-10 Batch 3:  Loss: 0.7209062576293945 Validation Accuracy: 0.6114000082015991\n",
      "Epoch 13, CIFAR-10 Batch 4:  Loss: 0.6712613701820374 Validation Accuracy: 0.6205999851226807\n",
      "Epoch 13, CIFAR-10 Batch 5:  Loss: 0.6797436475753784 Validation Accuracy: 0.6295999884605408\n",
      "Epoch 14, CIFAR-10 Batch 1:  Loss: 0.7881986498832703 Validation Accuracy: 0.6212000250816345\n",
      "Epoch 14, CIFAR-10 Batch 2:  Loss: 0.7619161605834961 Validation Accuracy: 0.6251999735832214\n",
      "Epoch 14, CIFAR-10 Batch 3:  Loss: 0.6378049850463867 Validation Accuracy: 0.6294000148773193\n",
      "Epoch 14, CIFAR-10 Batch 4:  Loss: 0.6259634494781494 Validation Accuracy: 0.6309999823570251\n",
      "Epoch 14, CIFAR-10 Batch 5:  Loss: 0.6213836669921875 Validation Accuracy: 0.626800000667572\n",
      "Epoch 15, CIFAR-10 Batch 1:  Loss: 0.7521950006484985 Validation Accuracy: 0.6394000053405762\n",
      "Epoch 15, CIFAR-10 Batch 2:  Loss: 0.7065237164497375 Validation Accuracy: 0.6373999714851379\n",
      "Epoch 15, CIFAR-10 Batch 3:  Loss: 0.6262765526771545 Validation Accuracy: 0.6284000277519226\n",
      "Epoch 15, CIFAR-10 Batch 4:  Loss: 0.5835569500923157 Validation Accuracy: 0.6452000141143799\n",
      "Epoch 15, CIFAR-10 Batch 5:  Loss: 0.6003007292747498 Validation Accuracy: 0.6255999803543091\n",
      "Epoch 16, CIFAR-10 Batch 1:  Loss: 0.7331459522247314 Validation Accuracy: 0.6287999749183655\n",
      "Epoch 16, CIFAR-10 Batch 2:  Loss: 0.6542858481407166 Validation Accuracy: 0.6320000290870667\n",
      "Epoch 16, CIFAR-10 Batch 3:  Loss: 0.5753256678581238 Validation Accuracy: 0.6251999735832214\n",
      "Epoch 16, CIFAR-10 Batch 4:  Loss: 0.5683802962303162 Validation Accuracy: 0.6406000256538391\n",
      "Epoch 16, CIFAR-10 Batch 5:  Loss: 0.5610194802284241 Validation Accuracy: 0.6394000053405762\n",
      "Epoch 17, CIFAR-10 Batch 1:  Loss: 0.7065635919570923 Validation Accuracy: 0.6326000094413757\n",
      "Epoch 17, CIFAR-10 Batch 2:  Loss: 0.6147475242614746 Validation Accuracy: 0.6471999883651733\n",
      "Epoch 17, CIFAR-10 Batch 3:  Loss: 0.5788953900337219 Validation Accuracy: 0.6237999796867371\n",
      "Epoch 17, CIFAR-10 Batch 4:  Loss: 0.6190962791442871 Validation Accuracy: 0.6259999871253967\n",
      "Epoch 17, CIFAR-10 Batch 5:  Loss: 0.5289483070373535 Validation Accuracy: 0.650600016117096\n",
      "Epoch 18, CIFAR-10 Batch 1:  Loss: 0.6384614706039429 Validation Accuracy: 0.6363999843597412\n",
      "Epoch 18, CIFAR-10 Batch 2:  Loss: 0.6255509853363037 Validation Accuracy: 0.6313999891281128\n",
      "Epoch 18, CIFAR-10 Batch 3:  Loss: 0.5177938342094421 Validation Accuracy: 0.6452000141143799\n",
      "Epoch 18, CIFAR-10 Batch 4:  Loss: 0.5421587228775024 Validation Accuracy: 0.6520000100135803\n",
      "Epoch 18, CIFAR-10 Batch 5:  Loss: 0.47161194682121277 Validation Accuracy: 0.6503999829292297\n",
      "Epoch 19, CIFAR-10 Batch 1:  Loss: 0.6301555633544922 Validation Accuracy: 0.6204000115394592\n",
      "Epoch 19, CIFAR-10 Batch 2:  Loss: 0.6230977177619934 Validation Accuracy: 0.6262000203132629\n",
      "Epoch 19, CIFAR-10 Batch 3:  Loss: 0.4983851909637451 Validation Accuracy: 0.649399995803833\n",
      "Epoch 19, CIFAR-10 Batch 4:  Loss: 0.5582497715950012 Validation Accuracy: 0.6294000148773193\n",
      "Epoch 19, CIFAR-10 Batch 5:  Loss: 0.4788464605808258 Validation Accuracy: 0.6481999754905701\n",
      "Epoch 20, CIFAR-10 Batch 1:  Loss: 0.5927536487579346 Validation Accuracy: 0.6358000040054321\n",
      "Epoch 20, CIFAR-10 Batch 2:  Loss: 0.5717479586601257 Validation Accuracy: 0.6585999727249146\n",
      "Epoch 20, CIFAR-10 Batch 3:  Loss: 0.4901912808418274 Validation Accuracy: 0.649399995803833\n",
      "Epoch 20, CIFAR-10 Batch 4:  Loss: 0.5345051288604736 Validation Accuracy: 0.6348000168800354\n",
      "Epoch 20, CIFAR-10 Batch 5:  Loss: 0.45437291264533997 Validation Accuracy: 0.6510000228881836\n",
      "Epoch 21, CIFAR-10 Batch 1:  Loss: 0.5551908612251282 Validation Accuracy: 0.6507999897003174\n",
      "Epoch 21, CIFAR-10 Batch 2:  Loss: 0.598488450050354 Validation Accuracy: 0.6413999795913696\n",
      "Epoch 21, CIFAR-10 Batch 3:  Loss: 0.5092774629592896 Validation Accuracy: 0.6359999775886536\n",
      "Epoch 21, CIFAR-10 Batch 4:  Loss: 0.5616656541824341 Validation Accuracy: 0.6236000061035156\n",
      "Epoch 21, CIFAR-10 Batch 5:  Loss: 0.4103545546531677 Validation Accuracy: 0.6625999808311462\n",
      "Epoch 22, CIFAR-10 Batch 1:  Loss: 0.5634840130805969 Validation Accuracy: 0.6294000148773193\n",
      "Epoch 22, CIFAR-10 Batch 2:  Loss: 0.6301019787788391 Validation Accuracy: 0.6309999823570251\n",
      "Epoch 22, CIFAR-10 Batch 3:  Loss: 0.46945127844810486 Validation Accuracy: 0.6434000134468079\n",
      "Epoch 22, CIFAR-10 Batch 4:  Loss: 0.46651706099510193 Validation Accuracy: 0.656000018119812\n",
      "Epoch 22, CIFAR-10 Batch 5:  Loss: 0.38742950558662415 Validation Accuracy: 0.6552000045776367\n",
      "Epoch 23, CIFAR-10 Batch 1:  Loss: 0.5023998618125916 Validation Accuracy: 0.6439999938011169\n",
      "Epoch 23, CIFAR-10 Batch 2:  Loss: 0.5716866254806519 Validation Accuracy: 0.6421999931335449\n",
      "Epoch 23, CIFAR-10 Batch 3:  Loss: 0.40777790546417236 Validation Accuracy: 0.6656000018119812\n",
      "Epoch 23, CIFAR-10 Batch 4:  Loss: 0.4169468879699707 Validation Accuracy: 0.649399995803833\n",
      "Epoch 23, CIFAR-10 Batch 5:  Loss: 0.3346763551235199 Validation Accuracy: 0.6618000268936157\n",
      "Epoch 24, CIFAR-10 Batch 1:  Loss: 0.5141162276268005 Validation Accuracy: 0.6358000040054321\n",
      "Epoch 24, CIFAR-10 Batch 2:  Loss: 0.5884672999382019 Validation Accuracy: 0.6172000169754028\n",
      "Epoch 24, CIFAR-10 Batch 3:  Loss: 0.44480839371681213 Validation Accuracy: 0.645799994468689\n",
      "Epoch 24, CIFAR-10 Batch 4:  Loss: 0.39534425735473633 Validation Accuracy: 0.6585999727249146\n",
      "Epoch 24, CIFAR-10 Batch 5:  Loss: 0.30829718708992004 Validation Accuracy: 0.6669999957084656\n",
      "Epoch 25, CIFAR-10 Batch 1:  Loss: 0.4743797183036804 Validation Accuracy: 0.6358000040054321\n",
      "Epoch 25, CIFAR-10 Batch 2:  Loss: 0.5465883612632751 Validation Accuracy: 0.6358000040054321\n",
      "Epoch 25, CIFAR-10 Batch 3:  Loss: 0.3559981882572174 Validation Accuracy: 0.6556000113487244\n",
      "Epoch 25, CIFAR-10 Batch 4:  Loss: 0.4111219048500061 Validation Accuracy: 0.6492000222206116\n",
      "Epoch 25, CIFAR-10 Batch 5:  Loss: 0.3032386898994446 Validation Accuracy: 0.6579999923706055\n",
      "Epoch 26, CIFAR-10 Batch 1:  Loss: 0.5070016384124756 Validation Accuracy: 0.6200000047683716\n",
      "Epoch 26, CIFAR-10 Batch 2:  Loss: 0.5613035559654236 Validation Accuracy: 0.6373999714851379\n",
      "Epoch 26, CIFAR-10 Batch 3:  Loss: 0.35441893339157104 Validation Accuracy: 0.6567999720573425\n",
      "Epoch 26, CIFAR-10 Batch 4:  Loss: 0.4095732569694519 Validation Accuracy: 0.644599974155426\n",
      "Epoch 26, CIFAR-10 Batch 5:  Loss: 0.28932565450668335 Validation Accuracy: 0.6603999733924866\n",
      "Epoch 27, CIFAR-10 Batch 1:  Loss: 0.5058584213256836 Validation Accuracy: 0.618399977684021\n",
      "Epoch 27, CIFAR-10 Batch 2:  Loss: 0.5149350762367249 Validation Accuracy: 0.6363999843597412\n",
      "Epoch 27, CIFAR-10 Batch 3:  Loss: 0.4019305109977722 Validation Accuracy: 0.645799994468689\n",
      "Epoch 27, CIFAR-10 Batch 4:  Loss: 0.38365381956100464 Validation Accuracy: 0.6601999998092651\n",
      "Epoch 27, CIFAR-10 Batch 5:  Loss: 0.3177705705165863 Validation Accuracy: 0.652999997138977\n",
      "Epoch 28, CIFAR-10 Batch 1:  Loss: 0.46986785531044006 Validation Accuracy: 0.6273999810218811\n",
      "Epoch 28, CIFAR-10 Batch 2:  Loss: 0.5154834389686584 Validation Accuracy: 0.6462000012397766\n",
      "Epoch 28, CIFAR-10 Batch 3:  Loss: 0.3268410563468933 Validation Accuracy: 0.6615999937057495\n",
      "Epoch 28, CIFAR-10 Batch 4:  Loss: 0.3422718644142151 Validation Accuracy: 0.6606000065803528\n",
      "Epoch 28, CIFAR-10 Batch 5:  Loss: 0.308533251285553 Validation Accuracy: 0.6448000073432922\n",
      "Epoch 29, CIFAR-10 Batch 1:  Loss: 0.40520939230918884 Validation Accuracy: 0.6467999815940857\n",
      "Epoch 29, CIFAR-10 Batch 2:  Loss: 0.5269565582275391 Validation Accuracy: 0.6456000208854675\n",
      "Epoch 29, CIFAR-10 Batch 3:  Loss: 0.33441153168678284 Validation Accuracy: 0.6535999774932861\n",
      "Epoch 29, CIFAR-10 Batch 4:  Loss: 0.34184056520462036 Validation Accuracy: 0.6538000106811523\n",
      "Epoch 29, CIFAR-10 Batch 5:  Loss: 0.2938687205314636 Validation Accuracy: 0.647599995136261\n",
      "Epoch 30, CIFAR-10 Batch 1:  Loss: 0.3941632807254791 Validation Accuracy: 0.6496000289916992\n",
      "Epoch 30, CIFAR-10 Batch 2:  Loss: 0.48952123522758484 Validation Accuracy: 0.6424000263214111\n",
      "Epoch 30, CIFAR-10 Batch 3:  Loss: 0.3059822916984558 Validation Accuracy: 0.6553999781608582\n",
      "Epoch 30, CIFAR-10 Batch 4:  Loss: 0.3145678639411926 Validation Accuracy: 0.652400016784668\n",
      "Epoch 30, CIFAR-10 Batch 5:  Loss: 0.25069645047187805 Validation Accuracy: 0.6503999829292297\n",
      "Epoch 31, CIFAR-10 Batch 1:  Loss: 0.4159497916698456 Validation Accuracy: 0.6462000012397766\n",
      "Epoch 31, CIFAR-10 Batch 2:  Loss: 0.4707467257976532 Validation Accuracy: 0.6406000256538391\n",
      "Epoch 31, CIFAR-10 Batch 3:  Loss: 0.2987790107727051 Validation Accuracy: 0.640999972820282\n",
      "Epoch 31, CIFAR-10 Batch 4:  Loss: 0.2801501750946045 Validation Accuracy: 0.6549999713897705\n",
      "Epoch 31, CIFAR-10 Batch 5:  Loss: 0.22944799065589905 Validation Accuracy: 0.6534000039100647\n",
      "Epoch 32, CIFAR-10 Batch 1:  Loss: 0.3485108017921448 Validation Accuracy: 0.6582000255584717\n",
      "Epoch 32, CIFAR-10 Batch 2:  Loss: 0.4814000427722931 Validation Accuracy: 0.6272000074386597\n",
      "Epoch 32, CIFAR-10 Batch 3:  Loss: 0.30726662278175354 Validation Accuracy: 0.6471999883651733\n",
      "Epoch 32, CIFAR-10 Batch 4:  Loss: 0.3220004737377167 Validation Accuracy: 0.6489999890327454\n",
      "Epoch 32, CIFAR-10 Batch 5:  Loss: 0.2347436398267746 Validation Accuracy: 0.6434000134468079\n",
      "Epoch 33, CIFAR-10 Batch 1:  Loss: 0.3586078882217407 Validation Accuracy: 0.65420001745224\n",
      "Epoch 33, CIFAR-10 Batch 2:  Loss: 0.44877293705940247 Validation Accuracy: 0.6371999979019165\n",
      "Epoch 33, CIFAR-10 Batch 3:  Loss: 0.30061087012290955 Validation Accuracy: 0.652400016784668\n",
      "Epoch 33, CIFAR-10 Batch 4:  Loss: 0.29893121123313904 Validation Accuracy: 0.6498000025749207\n",
      "Epoch 33, CIFAR-10 Batch 5:  Loss: 0.19562005996704102 Validation Accuracy: 0.6503999829292297\n",
      "Epoch 34, CIFAR-10 Batch 1:  Loss: 0.3926289677619934 Validation Accuracy: 0.6263999938964844\n",
      "Epoch 34, CIFAR-10 Batch 2:  Loss: 0.37751832604408264 Validation Accuracy: 0.6424000263214111\n",
      "Epoch 34, CIFAR-10 Batch 3:  Loss: 0.3134116232395172 Validation Accuracy: 0.6520000100135803\n",
      "Epoch 34, CIFAR-10 Batch 4:  Loss: 0.2682262659072876 Validation Accuracy: 0.6507999897003174\n",
      "Epoch 34, CIFAR-10 Batch 5:  Loss: 0.20599980652332306 Validation Accuracy: 0.6546000242233276\n",
      "Epoch 35, CIFAR-10 Batch 1:  Loss: 0.3632296621799469 Validation Accuracy: 0.6363999843597412\n",
      "Epoch 35, CIFAR-10 Batch 2:  Loss: 0.36885806918144226 Validation Accuracy: 0.6460000276565552\n",
      "Epoch 35, CIFAR-10 Batch 3:  Loss: 0.30862972140312195 Validation Accuracy: 0.65420001745224\n",
      "Epoch 35, CIFAR-10 Batch 4:  Loss: 0.287303626537323 Validation Accuracy: 0.6431999802589417\n",
      "Epoch 35, CIFAR-10 Batch 5:  Loss: 0.2105940282344818 Validation Accuracy: 0.6456000208854675\n",
      "Epoch 36, CIFAR-10 Batch 1:  Loss: 0.341549277305603 Validation Accuracy: 0.6442000269889832\n",
      "Epoch 36, CIFAR-10 Batch 2:  Loss: 0.3449590802192688 Validation Accuracy: 0.6480000019073486\n",
      "Epoch 36, CIFAR-10 Batch 3:  Loss: 0.28751233220100403 Validation Accuracy: 0.65420001745224\n",
      "Epoch 36, CIFAR-10 Batch 4:  Loss: 0.2863788902759552 Validation Accuracy: 0.6442000269889832\n",
      "Epoch 36, CIFAR-10 Batch 5:  Loss: 0.265970379114151 Validation Accuracy: 0.6435999870300293\n",
      "Epoch 37, CIFAR-10 Batch 1:  Loss: 0.37344369292259216 Validation Accuracy: 0.6439999938011169\n",
      "Epoch 37, CIFAR-10 Batch 2:  Loss: 0.34580978751182556 Validation Accuracy: 0.6474000215530396\n",
      "Epoch 37, CIFAR-10 Batch 3:  Loss: 0.26452186703681946 Validation Accuracy: 0.6462000012397766\n",
      "Epoch 37, CIFAR-10 Batch 4:  Loss: 0.28238528966903687 Validation Accuracy: 0.6460000276565552\n",
      "Epoch 37, CIFAR-10 Batch 5:  Loss: 0.2417203038930893 Validation Accuracy: 0.6302000284194946\n",
      "Epoch 38, CIFAR-10 Batch 1:  Loss: 0.3217686712741852 Validation Accuracy: 0.6507999897003174\n",
      "Epoch 38, CIFAR-10 Batch 2:  Loss: 0.35897573828697205 Validation Accuracy: 0.6348000168800354\n",
      "Epoch 38, CIFAR-10 Batch 3:  Loss: 0.26814645528793335 Validation Accuracy: 0.6488000154495239\n",
      "Epoch 38, CIFAR-10 Batch 4:  Loss: 0.3166111707687378 Validation Accuracy: 0.6503999829292297\n",
      "Epoch 38, CIFAR-10 Batch 5:  Loss: 0.26316389441490173 Validation Accuracy: 0.6284000277519226\n",
      "Epoch 39, CIFAR-10 Batch 1:  Loss: 0.348881334066391 Validation Accuracy: 0.6417999863624573\n",
      "Epoch 39, CIFAR-10 Batch 2:  Loss: 0.38694432377815247 Validation Accuracy: 0.6233999729156494\n",
      "Epoch 39, CIFAR-10 Batch 3:  Loss: 0.2605021297931671 Validation Accuracy: 0.6417999863624573\n",
      "Epoch 39, CIFAR-10 Batch 4:  Loss: 0.25641772150993347 Validation Accuracy: 0.6460000276565552\n",
      "Epoch 39, CIFAR-10 Batch 5:  Loss: 0.24981576204299927 Validation Accuracy: 0.6370000243186951\n",
      "Epoch 40, CIFAR-10 Batch 1:  Loss: 0.36733725666999817 Validation Accuracy: 0.6355999708175659\n",
      "Epoch 40, CIFAR-10 Batch 2:  Loss: 0.3454751968383789 Validation Accuracy: 0.6326000094413757\n",
      "Epoch 40, CIFAR-10 Batch 3:  Loss: 0.23987393081188202 Validation Accuracy: 0.6467999815940857\n",
      "Epoch 40, CIFAR-10 Batch 4:  Loss: 0.20701909065246582 Validation Accuracy: 0.657800018787384\n",
      "Epoch 40, CIFAR-10 Batch 5:  Loss: 0.21643729507923126 Validation Accuracy: 0.6507999897003174\n",
      "Epoch 41, CIFAR-10 Batch 1:  Loss: 0.2902073860168457 Validation Accuracy: 0.6394000053405762\n",
      "Epoch 41, CIFAR-10 Batch 2:  Loss: 0.31762075424194336 Validation Accuracy: 0.6388000249862671\n",
      "Epoch 41, CIFAR-10 Batch 3:  Loss: 0.2687147557735443 Validation Accuracy: 0.6389999985694885\n",
      "Epoch 41, CIFAR-10 Batch 4:  Loss: 0.24934786558151245 Validation Accuracy: 0.6448000073432922\n",
      "Epoch 41, CIFAR-10 Batch 5:  Loss: 0.2123837023973465 Validation Accuracy: 0.647599995136261\n",
      "Epoch 42, CIFAR-10 Batch 1:  Loss: 0.29026058316230774 Validation Accuracy: 0.6467999815940857\n",
      "Epoch 42, CIFAR-10 Batch 2:  Loss: 0.3714390695095062 Validation Accuracy: 0.6424000263214111\n",
      "Epoch 42, CIFAR-10 Batch 3:  Loss: 0.25667235255241394 Validation Accuracy: 0.6492000222206116\n",
      "Epoch 42, CIFAR-10 Batch 4:  Loss: 0.23552466928958893 Validation Accuracy: 0.6488000154495239\n",
      "Epoch 42, CIFAR-10 Batch 5:  Loss: 0.21073640882968903 Validation Accuracy: 0.6394000053405762\n",
      "Epoch 43, CIFAR-10 Batch 1:  Loss: 0.28583982586860657 Validation Accuracy: 0.6413999795913696\n",
      "Epoch 43, CIFAR-10 Batch 2:  Loss: 0.3319055438041687 Validation Accuracy: 0.6320000290870667\n",
      "Epoch 43, CIFAR-10 Batch 3:  Loss: 0.24002890288829803 Validation Accuracy: 0.6485999822616577\n",
      "Epoch 43, CIFAR-10 Batch 4:  Loss: 0.2527868449687958 Validation Accuracy: 0.6353999972343445\n",
      "Epoch 43, CIFAR-10 Batch 5:  Loss: 0.18986546993255615 Validation Accuracy: 0.6517999768257141\n",
      "Epoch 44, CIFAR-10 Batch 1:  Loss: 0.2625114917755127 Validation Accuracy: 0.6412000060081482\n",
      "Epoch 44, CIFAR-10 Batch 2:  Loss: 0.3256640136241913 Validation Accuracy: 0.6290000081062317\n",
      "Epoch 44, CIFAR-10 Batch 3:  Loss: 0.23805929720401764 Validation Accuracy: 0.6456000208854675\n",
      "Epoch 44, CIFAR-10 Batch 4:  Loss: 0.24345439672470093 Validation Accuracy: 0.6434000134468079\n",
      "Epoch 44, CIFAR-10 Batch 5:  Loss: 0.16633515059947968 Validation Accuracy: 0.6600000262260437\n",
      "Epoch 45, CIFAR-10 Batch 1:  Loss: 0.25974372029304504 Validation Accuracy: 0.6412000060081482\n",
      "Epoch 45, CIFAR-10 Batch 2:  Loss: 0.30386972427368164 Validation Accuracy: 0.6380000114440918\n",
      "Epoch 45, CIFAR-10 Batch 3:  Loss: 0.21981380879878998 Validation Accuracy: 0.6478000283241272\n",
      "Epoch 45, CIFAR-10 Batch 4:  Loss: 0.2674424946308136 Validation Accuracy: 0.6362000107765198\n",
      "Epoch 45, CIFAR-10 Batch 5:  Loss: 0.16678471863269806 Validation Accuracy: 0.6564000248908997\n",
      "Epoch 46, CIFAR-10 Batch 1:  Loss: 0.24546721577644348 Validation Accuracy: 0.6376000046730042\n",
      "Epoch 46, CIFAR-10 Batch 2:  Loss: 0.28584134578704834 Validation Accuracy: 0.6481999754905701\n",
      "Epoch 46, CIFAR-10 Batch 3:  Loss: 0.21653659641742706 Validation Accuracy: 0.6452000141143799\n",
      "Epoch 46, CIFAR-10 Batch 4:  Loss: 0.2615569829940796 Validation Accuracy: 0.6395999789237976\n",
      "Epoch 46, CIFAR-10 Batch 5:  Loss: 0.15382975339889526 Validation Accuracy: 0.6510000228881836\n",
      "Epoch 47, CIFAR-10 Batch 1:  Loss: 0.23026883602142334 Validation Accuracy: 0.6349999904632568\n",
      "Epoch 47, CIFAR-10 Batch 2:  Loss: 0.27870577573776245 Validation Accuracy: 0.6366000175476074\n",
      "Epoch 47, CIFAR-10 Batch 3:  Loss: 0.1920541226863861 Validation Accuracy: 0.650600016117096\n",
      "Epoch 47, CIFAR-10 Batch 4:  Loss: 0.243525430560112 Validation Accuracy: 0.6326000094413757\n",
      "Epoch 47, CIFAR-10 Batch 5:  Loss: 0.15191340446472168 Validation Accuracy: 0.6516000032424927\n",
      "Epoch 48, CIFAR-10 Batch 1:  Loss: 0.2541976571083069 Validation Accuracy: 0.6254000067710876\n",
      "Epoch 48, CIFAR-10 Batch 2:  Loss: 0.2401246726512909 Validation Accuracy: 0.6435999870300293\n",
      "Epoch 48, CIFAR-10 Batch 3:  Loss: 0.23163993656635284 Validation Accuracy: 0.65420001745224\n",
      "Epoch 48, CIFAR-10 Batch 4:  Loss: 0.24517101049423218 Validation Accuracy: 0.6236000061035156\n",
      "Epoch 48, CIFAR-10 Batch 5:  Loss: 0.15403948724269867 Validation Accuracy: 0.6585999727249146\n",
      "Epoch 49, CIFAR-10 Batch 1:  Loss: 0.2375447005033493 Validation Accuracy: 0.6258000135421753\n",
      "Epoch 49, CIFAR-10 Batch 2:  Loss: 0.22167792916297913 Validation Accuracy: 0.647599995136261\n",
      "Epoch 49, CIFAR-10 Batch 3:  Loss: 0.1613488644361496 Validation Accuracy: 0.6618000268936157\n",
      "Epoch 49, CIFAR-10 Batch 4:  Loss: 0.28355932235717773 Validation Accuracy: 0.621399998664856\n",
      "Epoch 49, CIFAR-10 Batch 5:  Loss: 0.17787833511829376 Validation Accuracy: 0.6402000188827515\n",
      "Epoch 50, CIFAR-10 Batch 1:  Loss: 0.2262064665555954 Validation Accuracy: 0.6439999938011169\n",
      "Epoch 50, CIFAR-10 Batch 2:  Loss: 0.2501358985900879 Validation Accuracy: 0.6452000141143799\n",
      "Epoch 50, CIFAR-10 Batch 3:  Loss: 0.1870661973953247 Validation Accuracy: 0.6553999781608582\n",
      "Epoch 50, CIFAR-10 Batch 4:  Loss: 0.19349387288093567 Validation Accuracy: 0.646399974822998\n",
      "Epoch 50, CIFAR-10 Batch 5:  Loss: 0.1768878847360611 Validation Accuracy: 0.6363999843597412\n"
     ]
    }
   ],
   "source": [
    "\"\"\"\n",
    "DON'T MODIFY ANYTHING IN THIS CELL\n",
    "\"\"\"\n",
    "save_model_path = './image_classification'\n",
    "\n",
    "print('Training...')\n",
    "with tf.Session() as sess:\n",
    "    # Initializing the variables\n",
    "    sess.run(tf.global_variables_initializer())\n",
    "    \n",
    "    # Training cycle\n",
    "    for epoch in range(epochs):\n",
    "        # Loop over all batches\n",
    "        n_batches = 5\n",
    "        for batch_i in range(1, n_batches + 1):\n",
    "            for batch_features, batch_labels in helper.load_preprocess_training_batch(batch_i, batch_size):\n",
    "                train_neural_network(sess, optimizer, keep_probability, batch_features, batch_labels)\n",
    "            print('Epoch {:>2}, CIFAR-10 Batch {}:  '.format(epoch + 1, batch_i), end='')\n",
    "            print_stats(sess, batch_features, batch_labels, cost, accuracy)\n",
    "            \n",
    "    # Save Model\n",
    "    saver = tf.train.Saver()\n",
    "    save_path = saver.save(sess, save_model_path)"
   ]
  },
  {
   "cell_type": "markdown",
   "metadata": {},
   "source": [
    "# Checkpoint\n",
    "The model has been saved to disk.\n",
    "## Test Model\n",
    "Test your model against the test dataset.  This will be your final accuracy. You should have an accuracy greater than 50%. If you don't, keep tweaking the model architecture and parameters."
   ]
  },
  {
   "cell_type": "code",
   "execution_count": 49,
   "metadata": {
    "collapsed": false
   },
   "outputs": [
    {
     "name": "stdout",
     "output_type": "stream",
     "text": [
      "Testing Accuracy: 0.63681640625\n",
      "\n"
     ]
    },
    {
     "data": {
      "image/png": "[encoded data removed]",
      "text/plain": [
       "<matplotlib.figure.Figure at 0x1038619b0>"
      ]
     },
     "metadata": {
      "image/png": {
       "height": 319,
       "width": 355
      }
     },
     "output_type": "display_data"
    }
   ],
   "source": [
    "\"\"\"\n",
    "DON'T MODIFY ANYTHING IN THIS CELL\n",
    "\"\"\"\n",
    "%matplotlib inline\n",
    "%config InlineBackend.figure_format = 'retina'\n",
    "\n",
    "import tensorflow as tf\n",
    "import pickle\n",
    "import helper\n",
    "import random\n",
    "\n",
    "# Set batch size if not already set\n",
    "try:\n",
    "    if batch_size:\n",
    "        pass\n",
    "except NameError:\n",
    "    batch_size = 64\n",
    "\n",
    "save_model_path = './image_classification'\n",
    "n_samples = 4\n",
    "top_n_predictions = 3\n",
    "\n",
    "def test_model():\n",
    "    \"\"\"\n",
    "    Test the saved model against the test dataset\n",
    "    \"\"\"\n",
    "\n",
    "    test_features, test_labels = pickle.load(open('preprocess_training.p', mode='rb'))\n",
    "    loaded_graph = tf.Graph()\n",
    "\n",
    "    with tf.Session(graph=loaded_graph) as sess:\n",
    "        # Load model\n",
    "        loader = tf.train.import_meta_graph(save_model_path + '.meta')\n",
    "        loader.restore(sess, save_model_path)\n",
    "\n",
    "        # Get Tensors from loaded model\n",
    "        loaded_x = loaded_graph.get_tensor_by_name('x:0')\n",
    "        loaded_y = loaded_graph.get_tensor_by_name('y:0')\n",
    "        loaded_keep_prob = loaded_graph.get_tensor_by_name('keep_prob:0')\n",
    "        loaded_logits = loaded_graph.get_tensor_by_name('logits:0')\n",
    "        loaded_acc = loaded_graph.get_tensor_by_name('accuracy:0')\n",
    "        \n",
    "        # Get accuracy in batches for memory limitations\n",
    "        test_batch_acc_total = 0\n",
    "        test_batch_count = 0\n",
    "        \n",
    "        for train_feature_batch, train_label_batch in helper.batch_features_labels(test_features, test_labels, batch_size):\n",
    "            test_batch_acc_total += sess.run(\n",
    "                loaded_acc,\n",
    "                feed_dict={loaded_x: train_feature_batch, loaded_y: train_label_batch, loaded_keep_prob: 1.0})\n",
    "            test_batch_count += 1\n",
    "\n",
    "        print('Testing Accuracy: {}\\n'.format(test_batch_acc_total/test_batch_count))\n",
    "\n",
    "        # Print Random Samples\n",
    "        random_test_features, random_test_labels = tuple(zip(*random.sample(list(zip(test_features, test_labels)), n_samples)))\n",
    "        random_test_predictions = sess.run(\n",
    "            tf.nn.top_k(tf.nn.softmax(loaded_logits), top_n_predictions),\n",
    "            feed_dict={loaded_x: random_test_features, loaded_y: random_test_labels, loaded_keep_prob: 1.0})\n",
    "        helper.display_image_predictions(random_test_features, random_test_labels, random_test_predictions)\n",
    "\n",
    "\n",
    "test_model()"
   ]
  },
  {
   "cell_type": "markdown",
   "metadata": {},
   "source": [
    "## Why 50-80% Accuracy?\n",
    "You might be wondering why you can't get an accuracy any higher. First things first, 50% isn't bad for a simple CNN.  Pure guessing would get you 10% accuracy. However, you might notice people are getting scores [well above 80%](http://rodrigob.github.io/are_we_there_yet/build/classification_datasets_results.html#43494641522d3130).  That's because we haven't taught you all there is to know about neural networks. We still need to cover a few more techniques.\n",
    "## Submitting This Project\n",
    "When submitting this project, make sure to run all the cells before saving the notebook.  Save the notebook file as \"dlnd_image_classification.ipynb\" and save it as a HTML file under \"File\" -> \"Download as\".  Include the \"helper.py\" and \"problem_unittests.py\" files in your submission."
   ]
  }
 ],
 "metadata": {
  "kernelspec": {
   "display_name": "Python 3",
   "language": "python",
   "name": "python3"
  },
  "language_info": {
   "codemirror_mode": {
    "name": "ipython",
    "version": 3
   },
   "file_extension": ".py",
   "mimetype": "text/x-python",
   "name": "python",
   "nbconvert_exporter": "python",
   "pygments_lexer": "ipython3",
   "version": "3.5.3"
  }
 },
 "nbformat": 4,
 "nbformat_minor": 0
}
